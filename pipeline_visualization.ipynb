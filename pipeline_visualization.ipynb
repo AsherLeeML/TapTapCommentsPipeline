{
 "cells": [
  {
   "cell_type": "code",
   "execution_count": 1,
   "metadata": {
    "ExecuteTime": {
     "end_time": "2018-08-13T14:19:50.120621Z",
     "start_time": "2018-08-13T14:19:48.196905Z"
    }
   },
   "outputs": [
    {
     "name": "stderr",
     "output_type": "stream",
     "text": [
      "Using TensorFlow backend.\n"
     ]
    }
   ],
   "source": [
    "import numpy as np\n",
    "from keras.utils import to_categorical\n",
    "from datautils import *\n",
    "from models import *\n",
    "from vis_utils.text_util import *"
   ]
  },
  {
   "cell_type": "code",
   "execution_count": 2,
   "metadata": {
    "ExecuteTime": {
     "end_time": "2018-08-13T14:19:50.425784Z",
     "start_time": "2018-08-13T14:19:50.122046Z"
    },
    "collapsed": true
   },
   "outputs": [],
   "source": [
    "import tensorflow as tf\n",
    "\n",
    "config = tf.ConfigProto()\n",
    "config.gpu_options.allow_growth = True\n",
    "session = tf.Session(config=config)\n",
    "\n",
    "%reload_ext autoreload\n",
    "%autoreload 2"
   ]
  },
  {
   "cell_type": "code",
   "execution_count": 3,
   "metadata": {
    "ExecuteTime": {
     "end_time": "2018-08-13T14:19:50.441538Z",
     "start_time": "2018-08-13T14:19:50.426684Z"
    },
    "collapsed": true
   },
   "outputs": [],
   "source": [
    "SAVE_MODEL_DIR = \"./vis_utils/\"\n",
    "SAVED_MODEL_FILENAME = \"model\"\n",
    "EMBEDDING_PATH = \"./cache/word_embed.npy\""
   ]
  },
  {
   "cell_type": "code",
   "execution_count": 4,
   "metadata": {
    "ExecuteTime": {
     "end_time": "2018-08-13T14:19:50.492769Z",
     "start_time": "2018-08-13T14:19:50.442416Z"
    },
    "collapsed": true
   },
   "outputs": [],
   "source": [
    "word_embed_weights =np.load('./cache/word_embed.npy')"
   ]
  },
  {
   "cell_type": "code",
   "execution_count": 5,
   "metadata": {
    "ExecuteTime": {
     "end_time": "2018-08-13T14:19:51.958277Z",
     "start_time": "2018-08-13T14:19:50.494083Z"
    },
    "collapsed": true
   },
   "outputs": [],
   "source": [
    "train_text = np.load('./cache/PN_train_text.npy')\n",
    "train_label = np.load('./cache/PN_train_label.npy')\n",
    "val_y = np.load('./cache/PN_val_y.npy')\n",
    "val_text = np.load('./cache/PN_val_X.npy')"
   ]
  },
  {
   "cell_type": "code",
   "execution_count": 6,
   "metadata": {
    "ExecuteTime": {
     "end_time": "2018-08-13T14:19:51.980296Z",
     "start_time": "2018-08-13T14:19:51.959267Z"
    }
   },
   "outputs": [
    {
     "data": {
      "text/plain": [
       "('掉帧掉帧掉帧  垃圾游戏优化与之匹配 预祝您switch半暴毙谢谢', array([0., 1.], dtype=float32))"
      ]
     },
     "execution_count": 6,
     "metadata": {},
     "output_type": "execute_result"
    }
   ],
   "source": [
    "val_text[0], val_y[0]"
   ]
  },
  {
   "cell_type": "code",
   "execution_count": 7,
   "metadata": {
    "ExecuteTime": {
     "end_time": "2018-08-13T14:20:01.469718Z",
     "start_time": "2018-08-13T14:19:51.981145Z"
    },
    "collapsed": true
   },
   "outputs": [],
   "source": [
    "val_X = han_pro(val_text.tolist())"
   ]
  },
  {
   "cell_type": "code",
   "execution_count": 8,
   "metadata": {
    "ExecuteTime": {
     "end_time": "2018-08-13T14:20:01.486211Z",
     "start_time": "2018-08-13T14:20:01.470624Z"
    }
   },
   "outputs": [
    {
     "data": {
      "text/plain": [
       "((111741,), (111741,), (15975, 10, 25), (15975, 2))"
      ]
     },
     "execution_count": 8,
     "metadata": {},
     "output_type": "execute_result"
    }
   ],
   "source": [
    "train_text.shape, train_label.shape, val_X.shape, val_y.shape"
   ]
  },
  {
   "cell_type": "code",
   "execution_count": 9,
   "metadata": {
    "ExecuteTime": {
     "end_time": "2018-08-13T14:20:01.504068Z",
     "start_time": "2018-08-13T14:20:01.487118Z"
    },
    "collapsed": true
   },
   "outputs": [],
   "source": [
    "sen_seq_length = 10\n",
    "word_seq_length = 25"
   ]
  },
  {
   "cell_type": "code",
   "execution_count": 10,
   "metadata": {
    "ExecuteTime": {
     "end_time": "2018-08-13T14:20:01.523933Z",
     "start_time": "2018-08-13T14:20:01.505095Z"
    },
    "collapsed": true
   },
   "outputs": [],
   "source": [
    "from vis_utils.hanVis import HNATT"
   ]
  },
  {
   "cell_type": "code",
   "execution_count": 11,
   "metadata": {
    "ExecuteTime": {
     "end_time": "2018-08-13T14:20:01.541215Z",
     "start_time": "2018-08-13T14:20:01.524913Z"
    },
    "collapsed": true
   },
   "outputs": [],
   "source": [
    "h = HNATT()"
   ]
  },
  {
   "cell_type": "code",
   "execution_count": 12,
   "metadata": {
    "ExecuteTime": {
     "end_time": "2018-08-13T14:31:11.285363Z",
     "start_time": "2018-08-13T14:20:01.542364Z"
    },
    "scrolled": false
   },
   "outputs": [
    {
     "name": "stdout",
     "output_type": "stream",
     "text": [
      "(None, 25, 256)\n",
      "_________________________________________________________________\n",
      "Layer (type)                 Output Shape              Param #   \n",
      "=================================================================\n",
      "input_1 (InputLayer)         (None, 25)                0         \n",
      "_________________________________________________________________\n",
      "word_embeddings (Embedding)  (None, 25, 256)           11369216  \n",
      "_________________________________________________________________\n",
      "bidirectional_1 (Bidirection (None, 25, 256)           295680    \n",
      "_________________________________________________________________\n",
      "dense_transform_w (Dense)    (None, 25, 256)           65792     \n",
      "_________________________________________________________________\n",
      "word_attention (Attention)   (None, 256)               256       \n",
      "=================================================================\n",
      "Total params: 11,730,944\n",
      "Trainable params: 361,728\n",
      "Non-trainable params: 11,369,216\n",
      "_________________________________________________________________\n",
      "(None, 25, 256)\n",
      "(None, 10, 256)\n",
      "_________________________________________________________________\n",
      "Layer (type)                 Output Shape              Param #   \n",
      "=================================================================\n",
      "input_2 (InputLayer)         (None, 10, 25)            0         \n",
      "_________________________________________________________________\n",
      "time_distributed_1 (TimeDist (None, 10, 256)           11730944  \n",
      "_________________________________________________________________\n",
      "bidirectional_2 (Bidirection (None, 10, 256)           295680    \n",
      "_________________________________________________________________\n",
      "dense_transform_s (Dense)    (None, 10, 256)           65792     \n",
      "_________________________________________________________________\n",
      "sentence_attention (Attentio (None, 256)               256       \n",
      "_________________________________________________________________\n",
      "dense_1 (Dense)              (None, 2)                 514       \n",
      "=================================================================\n",
      "Total params: 12,093,186\n",
      "Trainable params: 723,970\n",
      "Non-trainable params: 11,369,216\n",
      "_________________________________________________________________\n",
      "Epoch 1/1\n",
      "1745/1745 [==============================] - 112s 64ms/step - loss: 0.3597 - acc: 0.8403 - val_loss: 0.3427 - val_acc: 0.8535\n",
      "Epoch 1/1\n",
      "1745/1745 [==============================] - 112s 64ms/step - loss: 0.3107 - acc: 0.8648 - val_loss: 0.3248 - val_acc: 0.8608\n",
      "Epoch 1/1\n",
      "1745/1745 [==============================] - 113s 65ms/step - loss: 0.2534 - acc: 0.8935 - val_loss: 0.3210 - val_acc: 0.8620\n",
      "Epoch 1/1\n",
      "1745/1745 [==============================] - 110s 63ms/step - loss: 0.2338 - acc: 0.9025 - val_loss: 0.3316 - val_acc: 0.8609\n",
      "Epoch 1/1\n",
      "1745/1745 [==============================] - 112s 64ms/step - loss: 0.2152 - acc: 0.9126 - val_loss: 0.3383 - val_acc: 0.8599\n",
      "Epoch 1/1\n",
      "1745/1745 [==============================] - 106s 61ms/step - loss: 0.2114 - acc: 0.9149 - val_loss: 0.3438 - val_acc: 0.8607\n"
     ]
    }
   ],
   "source": [
    "h.train(train_text, train_label, val_X, val_y,  saved_model_filename=SAVED_MODEL_FILENAME)"
   ]
  },
  {
   "cell_type": "code",
   "execution_count": 13,
   "metadata": {
    "ExecuteTime": {
     "end_time": "2018-08-13T14:31:11.860286Z",
     "start_time": "2018-08-13T14:31:11.286240Z"
    },
    "scrolled": false
   },
   "outputs": [
    {
     "name": "stdout",
     "output_type": "stream",
     "text": [
      "[([('这', 0.026777447337169028), ('游戏', 0.004332307883410733), ('，', 0.0003958683317746072), ('不', 0.0025170890435385414), ('氪', 0.03256254245664257), ('皮肤', 0.08312320630086169), ('根本', 0.18727666254759195), ('玩', 0.00781154057292472), ('不了', 0.02950997866315812), ('，', 0.00042065576837010954), ('我', 0.001240918545767797), ('玩', 0.004860568873860712), ('猴子', 0.08485296345261899), ('，', 2.47656728293549e-05), ('没', 0.0009637000990339329), ('皮肤', 0.01550531913168317), ('，', 3.0452684437853614e-05), ('带', 0.003725524426258293), ('铭文', 0.028301717604177767), ('后', 0.0023142847604718), ('出门', 0.12417941045942785), ('暴击率', 0.355737671411732), ('，', 3.154757031562751e-05), ('打野', 0.0011156723674354454), ('时', 0.002388184034507339)], 0.25846857), ([('然后', 0.0002424059460999256), ('我', 0.0001323171681259576), ('又', 0.0008064367981287027), ('拿', 0.0010716810667280921), ('朋友', 0.053718870915182335), ('的', 3.539853976222308e-05), ('号', 0.0024122469521292316), ('，', 3.27456348956403e-05), ('v7', 0.9415478969789479)], 0.22676751), ([('至尊宝', 0.6863595725061298), ('，', 4.230887963262124e-06), ('铭文', 0.0050232004478336645), ('和', 4.7927426121088106e-05), ('我', 6.173888106221865e-06), ('一样', 6.105140811213908e-05), ('，', 4.3325039493279984e-07), ('出门', 0.0010666410404789768), ('暴击率', 0.0024654565976145394), ('，', 2.8944773674891216e-07), ('四级', 0.00022088910481054413), ('抓人', 0.000682428584550245), ('，', 5.490910512143432e-07), ('四', 0.0011069565570589325), ('棒子', 0.017137998509798927), ('，', 1.1063290781092248e-06), ('，', 1.2881123241793635e-06), ('后期', 0.0004650269830945082), ('67%', 0.2534957011856221), ('暴', 0.023826315274532127), ('击打', 0.0036547563047616043), ('的', 3.4518287347848747e-06), ('跟', 0.00010553970692981858), ('100%', 0.002789011657624032), ('暴击', 0.001474003869537519)], 0.24618712), ([('真的', 0.01460096676136557), ('醉', 0.4204796420495228), ('了', 8.083989669733877e-05), ('，', 3.9700248398496714e-05), ('每次', 0.0028656041278150635), ('都', 0.00016645981851774345), ('是', 5.141420087307442e-05), ('对面', 0.007531437209239183), ('有', 0.0018680406858082189), ('皮肤', 0.05337584972418406), ('的', 0.0003922807506186667), ('猴子', 0.19183649643385348), ('超神', 0.22040807799014517), ('，', 3.985796670904822e-05), ('打野', 0.0059757367323637015), ('都', 0.00022111787664898873), ('比', 0.012655482330019265), ('我', 0.00046542335481224606), ('快', 0.02889917601320346), ('很多', 0.012334709105609845), ('，', 6.452837079467201e-05), ('所以', 0.008778472172568668), ('这', 0.010374384515424143), ('游戏', 0.00206440301695885), ('啊', 0.004429898647848247)], 0.26857674)]\n"
     ]
    }
   ],
   "source": [
    "activation_maps = h.activation_maps(u'这游戏，不氪金不买皮肤根本玩不了，我玩猴子，没皮肤，带铭文后出门27%暴击率，打野时偶尔还出出暴击，我四级抓人，敲了四棒子，一个暴击没出，死了，然后六级买了个加15%暴击几率的玩意，去抓人，四棒子，一暴击。然后我又拿朋友的号，v7   至尊宝，铭文和我一样，出门27%暴击率，四级抓人，四棒子，三暴击，后期67%暴击打的跟100%暴击一样，而我没皮肤的猴子，后期67%的暴击率，打团才出一两次暴击?真的醉了，每次都是对面有皮肤的猴子超神，打野都比我快很多，所以这游戏啊，差评。')\n",
    "print(activation_maps)"
   ]
  }
 ],
 "metadata": {
  "kernelspec": {
   "display_name": "Python 3",
   "language": "python",
   "name": "python3"
  },
  "language_info": {
   "codemirror_mode": {
    "name": "ipython",
    "version": 3
   },
   "file_extension": ".py",
   "mimetype": "text/x-python",
   "name": "python",
   "nbconvert_exporter": "python",
   "pygments_lexer": "ipython3",
   "version": "3.6.2"
  },
  "toc": {
   "nav_menu": {},
   "number_sections": true,
   "sideBar": true,
   "skip_h1_title": false,
   "toc_cell": false,
   "toc_position": {},
   "toc_section_display": "block",
   "toc_window_display": false
  },
  "varInspector": {
   "cols": {
    "lenName": 16,
    "lenType": 16,
    "lenVar": 40
   },
   "kernels_config": {
    "python": {
     "delete_cmd_postfix": "",
     "delete_cmd_prefix": "del ",
     "library": "var_list.py",
     "varRefreshCmd": "print(var_dic_list())"
    },
    "r": {
     "delete_cmd_postfix": ") ",
     "delete_cmd_prefix": "rm(",
     "library": "var_list.r",
     "varRefreshCmd": "cat(var_dic_list()) "
    }
   },
   "oldHeight": 122,
   "position": {
    "height": "40px",
    "left": "648px",
    "right": "20px",
    "top": "120px",
    "width": "250px"
   },
   "types_to_exclude": [
    "module",
    "function",
    "builtin_function_or_method",
    "instance",
    "_Feature"
   ],
   "varInspector_section_display": "none",
   "window_display": true
  }
 },
 "nbformat": 4,
 "nbformat_minor": 2
}
