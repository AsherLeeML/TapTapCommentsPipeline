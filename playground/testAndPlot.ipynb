{
 "cells": [
  {
   "cell_type": "code",
   "execution_count": 1,
   "metadata": {
    "ExecuteTime": {
     "end_time": "2018-08-06T03:49:56.116506Z",
     "start_time": "2018-08-06T03:49:55.525953Z"
    },
    "collapsed": true
   },
   "outputs": [],
   "source": [
    "import pandas as pd"
   ]
  },
  {
   "cell_type": "code",
   "execution_count": 2,
   "metadata": {
    "ExecuteTime": {
     "end_time": "2018-08-06T03:49:56.122074Z",
     "start_time": "2018-08-06T03:49:56.120410Z"
    },
    "collapsed": true
   },
   "outputs": [],
   "source": [
    "from pathlib import Path\n",
    "data_path = Path('./results')"
   ]
  },
  {
   "cell_type": "code",
   "execution_count": 3,
   "metadata": {
    "ExecuteTime": {
     "end_time": "2018-08-06T03:49:56.457356Z",
     "start_time": "2018-08-06T03:49:56.453387Z"
    },
    "collapsed": true
   },
   "outputs": [],
   "source": [
    "import os\n",
    "fileList = [file for file in os.listdir(data_path) if os.stat(data_path/file).st_size > 1e5]"
   ]
  },
  {
   "cell_type": "code",
   "execution_count": 4,
   "metadata": {
    "ExecuteTime": {
     "end_time": "2018-08-06T03:49:57.197460Z",
     "start_time": "2018-08-06T03:49:57.071722Z"
    },
    "collapsed": true
   },
   "outputs": [],
   "source": [
    "import matplotlib\n",
    "import matplotlib.pyplot as plt\n",
    "%matplotlib inline"
   ]
  },
  {
   "cell_type": "code",
   "execution_count": 82,
   "metadata": {
    "ExecuteTime": {
     "end_time": "2018-08-06T04:18:19.124006Z",
     "start_time": "2018-08-06T04:18:19.121264Z"
    }
   },
   "outputs": [
    {
     "data": {
      "text/plain": [
       "['月圆之夜.csv',\n",
       " '阴阳师.csv',\n",
       " '绝地求生 全军出击.csv',\n",
       " '王者荣耀.csv',\n",
       " '穿越火线-枪战王者.csv',\n",
       " 'ICEY.csv',\n",
       " '元气骑士.csv',\n",
       " '碧蓝航线.csv',\n",
       " '香肠派对.csv',\n",
       " '非人学园.csv',\n",
       " '楚留香.csv',\n",
       " '命运-冠位指定（Fate-Grand Order）CN.csv',\n",
       " '炉石传说.csv',\n",
       " '我的世界.csv',\n",
       " '崩坏3.csv',\n",
       " '少女前线CN.csv',\n",
       " '比特小队.csv',\n",
       " '决战！平安京.csv',\n",
       " '心灵战争.csv',\n",
       " 'QQ飞车.csv',\n",
       " 'Muse Dash.csv',\n",
       " '绝地求生：刺激战场.csv',\n",
       " '黑暗料理王.csv',\n",
       " '第五人格CN.csv']"
      ]
     },
     "execution_count": 82,
     "metadata": {},
     "output_type": "execute_result"
    }
   ],
   "source": [
    "fileList"
   ]
  },
  {
   "cell_type": "markdown",
   "metadata": {
    "heading_collapsed": true
   },
   "source": [
    "### combine test"
   ]
  },
  {
   "cell_type": "code",
   "execution_count": 5,
   "metadata": {
    "ExecuteTime": {
     "end_time": "2018-08-06T03:50:00.616055Z",
     "start_time": "2018-08-06T03:49:57.854473Z"
    },
    "collapsed": true,
    "hidden": true
   },
   "outputs": [],
   "source": [
    "bigCorpus = pd.DataFrame()\n",
    "for file in fileList:\n",
    "    file = data_path/file\n",
    "    newCsv = pd.read_csv(file, engine='python', encoding='utf-8')\n",
    "    bigCorpus = pd.concat([bigCorpus, newCsv])\n",
    "bigCorpus = bigCorpus[['打分', '评论内容', '使用机型']]\n",
    "bigCorpus.to_csv('./BigCorpus.csv')"
   ]
  },
  {
   "cell_type": "code",
   "execution_count": 7,
   "metadata": {
    "ExecuteTime": {
     "end_time": "2018-08-06T03:18:18.735324Z",
     "start_time": "2018-08-06T03:18:18.726527Z"
    },
    "collapsed": true,
    "hidden": true
   },
   "outputs": [
    {
     "data": {
      "text/plain": [
       "<bound method NDFrame.head of        打分                                               评论内容  \\\n",
       "0       1                                 我已经不想说什么了，死都不发信息给我   \n",
       "1       1                                 ***游戏抄袭还抄的这么烂也是无语了   \n",
       "2       1     有一个bug，当爆牌选卡时往从右往左滑动时总会回到第一张卡的位置，根本拖不到后面，太烦人了。   \n",
       "3       1                              boss好难打啊，这游戏真的对新人很不友好   \n",
       "4       1                      本想给五星的看了下一星评论才明白我有多蠢╰(*´︶`*)╯   \n",
       "5       1             这他妈是人玩的游戏啊   打神秘人是打这打着就没回合就出不了牌了***个锤子   \n",
       "6       1  游戏是个好游戏。。但为什么ios用户要体验完整的内容需要付12元？安卓用户只要付6元呢？我希...   \n",
       "7       1                   为什么不能登微信，网好好的呀，关键是我还买了魔术师呢，还我6块钱   \n",
       "8       1  一开始以为遇到个不错的游戏，结果玩着玩着就感觉不对了。别的不说，游侠那几张“背刺”，“追击”...   \n",
       "9       1                                    血很少就谁也打不过只能重新开始   \n",
       "10      1  这游戏有bug最终boos只剩28滴血我毒也能 毒死。狼人那个技能直接让他回了60滴血。我当...   \n",
       "11      1   这游戏判定恶不恶心？最后boss狼人我一共打上了21层毒狼人被我打残剩4滴血然后愉悦的事情发生了   \n",
       "12      1                      太难了  不适合我   一个噩梦狼人打了两个点谁也没放倒谁   \n",
       "13      1      是真的厚颜无耻狼人哪里恢复以损失百分之20的生命值很强就是说你要一回合打出100的伤害才行   \n",
       "14      1  为什么现在这么多的手游，都要学着去抄袭Dota2呢？这游戏里面几个图标，人物名字，甚至是配音...   \n",
       "15      1  为什么一个国内抄袭游戏，能够得奖还一堆人赞？虽然好玩，但是是使用别人的劳动成果啊！支持这种作...   \n",
       "16      1                              这个能那么容易通关！！！容易难度感觉都很难   \n",
       "17      1                                    敌人技能太变态 改改吧 卸载了   \n",
       "18      1                                我的存档自动消失了😭😭😭😭😭😭什么鬼😭   \n",
       "19      1                           你就告诉我大灰狼那关咋过我真是受不了太踏马恶心了   \n",
       "20      1                                 为什么我用QQ买过，登录QQ后却没有   \n",
       "21      1  不废话了，换皮抄袭，0分，我会永远抵制。…………事情终于暂作解决的分割线，赶快更新对游戏本身...   \n",
       "22      1  你们说的新手友好度我怎么没遇到？？？一共玩了4把，两次狼人两次女巫，手里没金币的时候连着出商...   \n",
       "23      1  不知道再改啥，法师到现在还是完全看脸。我经常第二关中旬才拿到第一张伤害卡，前面全是什么过牌法...   \n",
       "24      1                                不好玩，拿不好牌就得重新开始，不推荐玩   \n",
       "25      1               玩了几天，什么破系统，要打过去时，难度就加大，最后一关，怎么打都打不过去   \n",
       "26      1                          白花我六块钱买魔术师，都吞下去没了，一更新就白买了   \n",
       "27      1                      真TM坑，多放这么多攻击，我的牌还没有治疗，咋打也过不去了   \n",
       "28      1  这个游戏后面的BOSS根本打不过去有复活甲也没有用，太闹心了，这个游戏有bug有一次可以打死...   \n",
       "29      1          回血很绝望四十滴血打几百的章鱼你是叫我去死吗？？？绝望心态崩了再玩这个游戏我是傻子   \n",
       "...    ..                                                ...   \n",
       "16546   5                                想问一下屠夫放的傀儡是什么，有什么用？   \n",
       "16547   5  Great game! but the controls respond 1 second ...   \n",
       "16548   5                           玩鹿头，看到人就是一个惊喜，勾过来就是一个棒棒锤   \n",
       "16549   5                           游戏特好玩，有一起玩的加我扣1670925302   \n",
       "16550   5  怒打五星，不怕你骄傲！其他都是小问题，最大问题是新手教程没写全，就比如地窖怎么回事都没有说明...   \n",
       "16551   5  游戏还原度挺高的，就是寒意那种触发天赋会在技能栏最后出现很蠢，职业多的时候根本看不见寒意有没有触发   \n",
       "16552   5                                  玩屠夫看到对面四个园丁，这把稳了。   \n",
       "16553   5  我是监管者，我也最喜欢做监管者，因为我害怕做一个逃生者。我喜欢把别人全部送上天。我更喜欢把最...   \n",
       "16554   5  虽然经常被守尸鬼追着打，队友不断救我。可我还是要替守尸鬼说两句，我感觉做鬼并不是那么好做的。...   \n",
       "16555   5                     游戏很好玩儿，但是新手训练好恐怖啊……园丁声音真**好听啊！   \n",
       "16556   5                网易搞事情，现在荒野终结被告了，难道又要被黎明杀机知识产权所有者告了?   \n",
       "16557   5  是非常棒的一个游戏  我自己也超级喜欢玩画面真的很可爱   虽然不再像二测那么有氛围有放生的...   \n",
       "16558   5  这个游戏很好玩，就是有一点不太好，就是屠夫可能遇到四排的车队，很不利，我觉得还可以加一个模式...   \n",
       "16559   5  希望出新图和模式，一直玩一样的时间长了会腻的，不过游戏很好(✪▽✪)，希望出个观战，等朋友实...   \n",
       "16560   5  被吓到了。一开始以为是解谜类游戏，偶尔跳出什么恐怖的人什么的也不会觉得很可怕。可是，这居然还...   \n",
       "16561   5                            怎么说呢冒险和魔术是最能溜屠夫的（杀鸡玩多了）   \n",
       "16562   5  很好玩，画风有点子鬼妈妈的意思，特别是那个纽扣眼。。。推理进行游戏的设定很棒，挺喜欢建议能够...   \n",
       "16563   5  我说下我的攻略吧。。。很多人不喜欢玩监管者。。。其实我感觉挺好玩的，人格点那个上面的那个分支...   \n",
       "16564   5  我玩那个鹿头  有几把我飞了仨   想要放走一个   我就把她栓到电机那想让她修电机   可...   \n",
       "16565   5  很好玩，主要是妹子好多啊，如果有喜欢的妹子，拉她来玩这个游戏吧，告诉你们一个心理学的东西，叫...   \n",
       "16566   5                   做的很好，画风很喜欢，而且剧情的描写一如既往的精良，真的很不错。   \n",
       "16567   5  逃脱者的一些小技巧1.监管者没发现你的时候，请好好走路，不要看到缺口就翻，看到板子就掀，监管...   \n",
       "16568   5            像我这种很少长期玩一个游戏的人，对第五人格居然爱不释手ヽ(￣ω￣(￣ω￣〃)ゝ   \n",
       "16569   5  游戏很好！！！但是有时候卡顿真的很严重！家里网络很好，但是一卡一卡的。我玩求生者时，明明甩掉...   \n",
       "16570   5  很不错的游戏，和寝室友一起组队什么的，还可以自定义模式，虐寝室友带妹子什么的都行，在tap下...   \n",
       "16571   5  从安卓公测那天开始玩一直玩园丁小姐姐。就是玩的时候有点皮没次不管发电机只拆椅子最后屠夫都快绝...   \n",
       "16572   5  剧情。。emmm玩了好久的匹配了 突然闲的无聊拖着男主到处逛回到一开始的门那里发现能互动 就...   \n",
       "16573   5  提一个建议，很重要！希望可以自定义操作区域，比如和吃鸡一样，左边控制移动，右边控制视野转向。...   \n",
       "16574   5  这个游戏是踏马真的好玩  虽然和谐了好多东西 看起来有点卡通 但是真的好玩 鬼胜率百分百 连...   \n",
       "16575   5      还不错，我人格99，屠夫95了。就单排而言感觉屠夫前期挺好打的，人类没配合就相对差强人意了   \n",
       "\n",
       "                        使用机型  \n",
       "0                  Vivo Y51A  \n",
       "1                      华为荣耀9  \n",
       "2               Vivo Xplay3S  \n",
       "3                        未公开  \n",
       "4                        未公开  \n",
       "5                   华为荣耀8青春版  \n",
       "6                   iPhone 7  \n",
       "7      华为MediaPad T2 8.0 Pro  \n",
       "8                        小米6  \n",
       "9                   OPPO A59  \n",
       "10                       未公开  \n",
       "11                       未公开  \n",
       "12                     小米手机4  \n",
       "13                       小米6  \n",
       "14                     华为荣耀8  \n",
       "15                       小米6  \n",
       "16                       小米6  \n",
       "17             OPPO R11sPlus  \n",
       "18                      华为P9  \n",
       "19                     华为畅享7  \n",
       "20                 OPPO R9sk  \n",
       "21                     华为P10  \n",
       "22                       小米8  \n",
       "23                   小米MIX 2  \n",
       "24                  Vivo Y35  \n",
       "25                 Vivo Y67L  \n",
       "26                    酷派C106  \n",
       "27                  OPPO A59  \n",
       "28              三星Galaxy S8+  \n",
       "29                  Vivo Y67  \n",
       "...                      ...  \n",
       "16546              H7571 AX9  \n",
       "16547      三星Galaxy J7 Prime  \n",
       "16548               酷派C105-6  \n",
       "16549                Vivo X7  \n",
       "16550               iPhone 7  \n",
       "16551               360手机N5S  \n",
       "16552                    小米6  \n",
       "16553            三星Galaxy S6  \n",
       "16554                 努比亚Z11  \n",
       "16555            三星Galaxy C5  \n",
       "16556                  金立大金钢  \n",
       "16557                  小米MIX  \n",
       "16558               Vivo X6S  \n",
       "16559              Vivo Y51A  \n",
       "16560             Vivo X9s L  \n",
       "16561                 华为荣耀6x  \n",
       "16562           iPad 4th Gen  \n",
       "16563             Vivo V3Max  \n",
       "16564                 华为荣耀V8  \n",
       "16565               小米Note 2  \n",
       "16566                 华为Nova  \n",
       "16567                 华为荣耀7i  \n",
       "16568               Vivo Y75  \n",
       "16569                    未公开  \n",
       "16570                  华为荣耀9  \n",
       "16571                红米Note4  \n",
       "16572                    未公开  \n",
       "16573            三星Galaxy S7  \n",
       "16574           魅族PRO 7 Plus  \n",
       "16575              iPhone 6s  \n",
       "\n",
       "[186694 rows x 3 columns]>"
      ]
     },
     "execution_count": 7,
     "metadata": {},
     "output_type": "execute_result"
    }
   ],
   "source": [
    "bigCorpus.head"
   ]
  },
  {
   "cell_type": "code",
   "execution_count": 6,
   "metadata": {
    "ExecuteTime": {
     "end_time": "2018-08-06T03:26:17.393285Z",
     "start_time": "2018-08-06T03:26:17.389856Z"
    },
    "hidden": true
   },
   "outputs": [
    {
     "data": {
      "text/plain": [
       "186694"
      ]
     },
     "execution_count": 6,
     "metadata": {},
     "output_type": "execute_result"
    }
   ],
   "source": [
    "len(bigCorpus)"
   ]
  },
  {
   "cell_type": "markdown",
   "metadata": {},
   "source": [
    "## brand stats"
   ]
  },
  {
   "cell_type": "code",
   "execution_count": 9,
   "metadata": {
    "ExecuteTime": {
     "end_time": "2018-08-06T03:18:18.894789Z",
     "start_time": "2018-08-06T03:18:18.859196Z"
    },
    "collapsed": true
   },
   "outputs": [
    {
     "data": {
      "text/plain": [
       "未公开                      18723\n",
       "小米6                       7366\n",
       "红米Note 4X                 3394\n",
       "小米MIX 2                   2701\n",
       "华为荣耀9                     2399\n",
       "小米手机5                     2179\n",
       "华为荣耀8青春版                  2138\n",
       "OPPO A57                  2094\n",
       "Vivo Y66                  2026\n",
       "OPPO R9                   2022\n",
       "华为荣耀8                     1938\n",
       "OPPO R11                  1902\n",
       "华为Mate 9                  1892\n",
       "华为荣耀V9                    1825\n",
       "Vivo X9                   1789\n",
       "Vivo X20                  1655\n",
       "小米5X                      1634\n",
       "OPPO R9s                  1590\n",
       "红米5 Plus                  1570\n",
       "一加手机5                     1563\n",
       "华为P9                      1511\n",
       "华为荣耀V10                   1483\n",
       "一加手机5T                    1468\n",
       "Vivo X7                   1396\n",
       "魅族M6 Note                 1387\n",
       "小米5S                      1324\n",
       "小米Note 3                  1308\n",
       "小米8                       1272\n",
       "Vivo Y67                  1265\n",
       "小米MAX 2                   1252\n",
       "                         ...  \n",
       "HMD Global TA-1020           1\n",
       "LGL22                        1\n",
       "Koobee X905Q                 1\n",
       "Micromax Canvas Nitro        1\n",
       "BLU VIVO AIR LTE             1\n",
       "小米5                          1\n",
       "华为TAG-TL00                   1\n",
       "SPRD GM-T5                   1\n",
       "TCL-550                      1\n",
       "Koobee S2                    1\n",
       "酷珀H3                         1\n",
       "至尊宝LT988                     1\n",
       "三星SM-T2558                   1\n",
       "Koobee P1                    1\n",
       "YuLong 5860S                 1\n",
       "Redmi                        1\n",
       "三星Galaxy S5 Mini             1\n",
       "小米Coolpad Y70 C              1\n",
       "Lephone T708                 1\n",
       "VOTO GT11 Pro                1\n",
       "Gigaset ME Pro               1\n",
       "Prestigio PSP7511DUO         1\n",
       "YuLong Coolpad S6-NC1        1\n",
       "Onefive C3                   1\n",
       "Best Sonny LT580             1\n",
       "ZYDZ MLLED X9                1\n",
       "Yulong Coolpad 5263CS        1\n",
       "Symphony P6 PRO              1\n",
       "Sprd AE G23                  1\n",
       "360 1501-M02                 1\n",
       "Name: 使用机型, Length: 2613, dtype: int64"
      ]
     },
     "execution_count": 9,
     "metadata": {},
     "output_type": "execute_result"
    }
   ],
   "source": [
    "bigCorpus['使用机型'].value_counts()"
   ]
  },
  {
   "cell_type": "code",
   "execution_count": 10,
   "metadata": {
    "ExecuteTime": {
     "end_time": "2018-08-06T03:18:18.933236Z",
     "start_time": "2018-08-06T03:18:18.895739Z"
    },
    "collapsed": true
   },
   "outputs": [
    {
     "data": {
      "text/plain": [
       "小米6          7366\n",
       "红米Note 4X    3394\n",
       "小米MIX 2      2701\n",
       "华为荣耀9        2399\n",
       "小米手机5        2179\n",
       "华为荣耀8青春版     2138\n",
       "OPPO A57     2094\n",
       "Vivo Y66     2026\n",
       "OPPO R9      2022\n",
       "华为荣耀8        1938\n",
       "OPPO R11     1902\n",
       "华为Mate 9     1892\n",
       "华为荣耀V9       1825\n",
       "Vivo X9      1789\n",
       "Vivo X20     1655\n",
       "小米5X         1634\n",
       "OPPO R9s     1590\n",
       "红米5 Plus     1570\n",
       "一加手机5        1563\n",
       "华为P9         1511\n",
       "Name: 使用机型, dtype: int64"
      ]
     },
     "execution_count": 10,
     "metadata": {},
     "output_type": "execute_result"
    }
   ],
   "source": [
    "bigCorpus['使用机型'].value_counts()[1:21]"
   ]
  },
  {
   "cell_type": "code",
   "execution_count": 15,
   "metadata": {
    "ExecuteTime": {
     "end_time": "2018-08-06T03:54:52.668446Z",
     "start_time": "2018-08-06T03:54:52.166845Z"
    },
    "scrolled": false
   },
   "outputs": [
    {
     "data": {
      "text/plain": [
       "<matplotlib.axes._subplots.AxesSubplot at 0x7fa5a2604748>"
      ]
     },
     "execution_count": 15,
     "metadata": {},
     "output_type": "execute_result"
    },
    {
     "data": {
      "image/png": "[encoded data removed]",
      "text/plain": [
       "<Figure size 1440x864 with 1 Axes>"
      ]
     },
     "metadata": {},
     "output_type": "display_data"
    }
   ],
   "source": [
    "bigCorpus['使用机型'].value_counts()[1:50].plot.bar(figsize=(20, 12), fontsize=20)"
   ]
  },
  {
   "cell_type": "code",
   "execution_count": 12,
   "metadata": {
    "ExecuteTime": {
     "end_time": "2018-08-06T03:18:19.655867Z",
     "start_time": "2018-08-06T03:18:19.618924Z"
    },
    "collapsed": true
   },
   "outputs": [],
   "source": [
    "csv1 = pd.read_csv(data_path/fileList[0], engine='python', encoding='utf-8')"
   ]
  },
  {
   "cell_type": "code",
   "execution_count": 13,
   "metadata": {
    "ExecuteTime": {
     "end_time": "2018-08-06T03:18:19.659703Z",
     "start_time": "2018-08-06T03:18:19.656781Z"
    }
   },
   "outputs": [
    {
     "data": {
      "text/plain": [
       "(6286, 5113)"
      ]
     },
     "execution_count": 13,
     "metadata": {},
     "output_type": "execute_result"
    }
   ],
   "source": [
    "len(csv1), sum(csv1['打分'] == 5)"
   ]
  },
  {
   "cell_type": "code",
   "execution_count": 14,
   "metadata": {
    "ExecuteTime": {
     "end_time": "2018-08-06T03:18:19.676934Z",
     "start_time": "2018-08-06T03:18:19.660486Z"
    }
   },
   "outputs": [
    {
     "data": {
      "text/plain": [
       "<bound method NDFrame.head of                 id          时间  打分  \\\n",
       "0             埃罗芒蝶  2018-08-04   1   \n",
       "1          政治再爱我一次  2018-08-04   1   \n",
       "2     手机用户10417237  2018-08-02   1   \n",
       "3           a13632  2018-08-02   1   \n",
       "4             长脸绵羊  2018-08-01   1   \n",
       "5                。  2018-07-31   1   \n",
       "6        對著鏡子練習微笑~  2018-07-31   1   \n",
       "7        MAX(ERYZ)  2018-07-31   1   \n",
       "8              热柠檬  2018-07-30   1   \n",
       "9             辛苦辛苦  2018-07-27   1   \n",
       "10               天  2018-07-23   1   \n",
       "11            しゃせい  2018-07-22   1   \n",
       "12    手机用户15007854  2018-07-21   1   \n",
       "13          无所不日其极  2018-07-13   1   \n",
       "14             。。。  2018-07-12   1   \n",
       "15    手机用户11220470  2018-07-12   1   \n",
       "16        good boy  2018-07-12   1   \n",
       "17             从没.  2018-07-10   1   \n",
       "18            NaNa  2018-07-10   1   \n",
       "19             皮皮虾  2018-07-10   1   \n",
       "20              呵呵  2018-07-10   1   \n",
       "21              陈雨  2018-07-09   1   \n",
       "22        Hawkwood  2018-07-09   1   \n",
       "23         uk2lili  2018-07-08   1   \n",
       "24         T irrom  2018-07-06   1   \n",
       "25         拈歌画眸唱长卿  2018-07-06   1   \n",
       "26            水族。冰  2018-07-05   1   \n",
       "27          微笑掩飾悲伤  2018-07-05   1   \n",
       "28            恋糖ゐ猫  2018-07-04   1   \n",
       "29            二小罗子  2018-07-04   1   \n",
       "...            ...         ...  ..   \n",
       "6256          KCOS  2018-02-06   5   \n",
       "6257         布丁装甲车  2018-02-06   5   \n",
       "6258         SEERS  2018-02-06   5   \n",
       "6259        我的肉不好吃  2018-02-06   5   \n",
       "6260      阿阿阿阿阿阿阿嘉  2018-02-06   5   \n",
       "6261           林倾墨  2018-02-06   5   \n",
       "6262         james  2018-02-06   5   \n",
       "6263        wangcx  2018-02-06   5   \n",
       "6264            心照  2018-02-06   5   \n",
       "6265            原创  2018-02-06   5   \n",
       "6266            哀丿  2018-02-06   5   \n",
       "6267           龙慕心  2018-02-06   5   \n",
       "6268           王大伯  2018-02-06   5   \n",
       "6269  手机用户19964577  2018-02-06   5   \n",
       "6270        Aqours  2018-02-06   5   \n",
       "6271          蔚然成风  2018-02-06   5   \n",
       "6272            骸骨  2018-02-06   5   \n",
       "6273            笙箫  2018-02-06   5   \n",
       "6274      Rothing°  2018-02-06   5   \n",
       "6275           呼呼扯  2018-02-06   5   \n",
       "6276         空城丶旧梦  2018-02-06   5   \n",
       "6277  手机用户19953376  2018-02-06   5   \n",
       "6278            涼白  2018-02-06   5   \n",
       "6279          水掺白酒  2018-02-06   5   \n",
       "6280        Gibran  2018-02-06   5   \n",
       "6281    Crice Anna  2018-02-06   5   \n",
       "6282      Stitches  2018-02-06   5   \n",
       "6283           大帅比  2018-02-06   5   \n",
       "6284         黙唸、緈諨  2018-02-06   5   \n",
       "6285     Cainmosni  2018-02-06   5   \n",
       "\n",
       "                                                   评论内容  \\\n",
       "0                                    我已经不想说什么了，死都不发信息给我   \n",
       "1                                    ***游戏抄袭还抄的这么烂也是无语了   \n",
       "2        有一个bug，当爆牌选卡时往从右往左滑动时总会回到第一张卡的位置，根本拖不到后面，太烦人了。   \n",
       "3                                 boss好难打啊，这游戏真的对新人很不友好   \n",
       "4                         本想给五星的看了下一星评论才明白我有多蠢╰(*´︶`*)╯   \n",
       "5                这他妈是人玩的游戏啊   打神秘人是打这打着就没回合就出不了牌了***个锤子   \n",
       "6     游戏是个好游戏。。但为什么ios用户要体验完整的内容需要付12元？安卓用户只要付6元呢？我希...   \n",
       "7                      为什么不能登微信，网好好的呀，关键是我还买了魔术师呢，还我6块钱   \n",
       "8     一开始以为遇到个不错的游戏，结果玩着玩着就感觉不对了。别的不说，游侠那几张“背刺”，“追击”...   \n",
       "9                                       血很少就谁也打不过只能重新开始   \n",
       "10    这游戏有bug最终boos只剩28滴血我毒也能 毒死。狼人那个技能直接让他回了60滴血。我当...   \n",
       "11     这游戏判定恶不恶心？最后boss狼人我一共打上了21层毒狼人被我打残剩4滴血然后愉悦的事情发生了   \n",
       "12                        太难了  不适合我   一个噩梦狼人打了两个点谁也没放倒谁   \n",
       "13        是真的厚颜无耻狼人哪里恢复以损失百分之20的生命值很强就是说你要一回合打出100的伤害才行   \n",
       "14    为什么现在这么多的手游，都要学着去抄袭Dota2呢？这游戏里面几个图标，人物名字，甚至是配音...   \n",
       "15    为什么一个国内抄袭游戏，能够得奖还一堆人赞？虽然好玩，但是是使用别人的劳动成果啊！支持这种作...   \n",
       "16                                这个能那么容易通关！！！容易难度感觉都很难   \n",
       "17                                      敌人技能太变态 改改吧 卸载了   \n",
       "18                                  我的存档自动消失了😭😭😭😭😭😭什么鬼😭   \n",
       "19                             你就告诉我大灰狼那关咋过我真是受不了太踏马恶心了   \n",
       "20                                   为什么我用QQ买过，登录QQ后却没有   \n",
       "21    不废话了，换皮抄袭，0分，我会永远抵制。…………事情终于暂作解决的分割线，赶快更新对游戏本身...   \n",
       "22    你们说的新手友好度我怎么没遇到？？？一共玩了4把，两次狼人两次女巫，手里没金币的时候连着出商...   \n",
       "23    不知道再改啥，法师到现在还是完全看脸。我经常第二关中旬才拿到第一张伤害卡，前面全是什么过牌法...   \n",
       "24                                  不好玩，拿不好牌就得重新开始，不推荐玩   \n",
       "25                 玩了几天，什么破系统，要打过去时，难度就加大，最后一关，怎么打都打不过去   \n",
       "26                            白花我六块钱买魔术师，都吞下去没了，一更新就白买了   \n",
       "27                        真TM坑，多放这么多攻击，我的牌还没有治疗，咋打也过不去了   \n",
       "28    这个游戏后面的BOSS根本打不过去有复活甲也没有用，太闹心了，这个游戏有bug有一次可以打死...   \n",
       "29            回血很绝望四十滴血打几百的章鱼你是叫我去死吗？？？绝望心态崩了再玩这个游戏我是傻子   \n",
       "...                                                 ...   \n",
       "6256  五星五星，游戏可玩性还是非常好的，个人觉得牧师和魔法师比较好玩，骑士和游侠之间的界限感觉不是...   \n",
       "6257  五星是鼓励，希望作者不要骄傲啊，因为还有很大提升空间。希望能增加装备道具系统，丰富玩法，不然...   \n",
       "6258  很棒的打牌游戏，打牌使我快乐。系统不复杂，画面演出恰到好处，配音很到位，bgm也正好。不过卡...   \n",
       "6259  \"嘘，小声点！我们不能惊动森林中的怪物！\"\"说谁是怪物呢？我们才是村子里真正的村民！\"这是一...   \n",
       "6260  我是看过主播爬塔后看到这个游戏差不多就下个玩玩，一开始以为骑士比较简单，结果碰到女巫各种穿刺...   \n",
       "6261                          很吸引人的一款游戏，手机平台上不可多得的卡牌类佳作   \n",
       "6262  虽然有抄袭但原作者已经原谅，并且这游戏突然有点像炉石地下城，除了修女其他全过了两三遍，挺好玩...   \n",
       "6263  这游戏有一点跟其他游戏很不一样，就是其他绝大多数游戏前期基本都是无脑玩，跟着教程就行，但这个...   \n",
       "6264                   猎人怎么打啊？？他妈的连起来一套就差不多三分之一血了，没办法打呀   \n",
       "6265     哈哈哈  四个人我都通过了  这游戏有毒 真魔性 我唯一一个玩的时间最久的手机单机游戏 大爱   \n",
       "6266                               表示已全部通关，喜欢的人会认为这是神作。   \n",
       "6267  给你们个建议，骑士是最强的！狂战斧，5攻击，二次打击越多越好！罗生门一张，穿透攻击，雷刃也可...   \n",
       "6268  游戏很好玩，不过你敢信，我用游侠，主玩毒战术，打一个骑士禁用行动卡，而且他还有个禁用拥有最多...   \n",
       "6269  不得不说真的是太棒了  配音还是画面都是满分!  游戏性也很高，不是一味点点点，而是策略出牌...   \n",
       "6270                        故事很感人，游戏也做的很好，但是修女我觉得后期有点难了   \n",
       "6271                     画面超漂亮超精致！！不过要是我能是敌方就好了_(:з」∠)_   \n",
       "6272                      大灰狼：什么时候小红帽都这么厉害了？一想到她，我就瑟瑟发抖   \n",
       "6273  爽到，昨天下午下载游戏后简直沉迷了。配乐很带感，卡牌打击感也不错。四大职业全部打过一次后基本...   \n",
       "6274  沉迷地玩了几天，确实是个不错的游戏。画风，音乐都很有特点，游戏机制也有自己独特的地方，比如对...   \n",
       "6275  好游戏好游戏好游戏！值得下载！0氪金的单机手游，游戏性和剧情性都很丰富！建议先从女巫起手，因...   \n",
       "6276            手机版的杀戮尖塔，很好玩哦。希望能再更新一些boss，增加一点游戏难度。嘤嘤嘤   \n",
       "6277             不错的游戏，玩了挺长时间。所有角色全部都能简单通关。值得一说的是骑士太无解了   \n",
       "6278                          我的骑士起手5把斧头 四张攻击神父被我打的快石像了   \n",
       "6279  没广告，不氪金，玩法丰富有趣，难度适中，简直是良心大作。全职业通关，修女bug，无伤单挑一切...   \n",
       "6280                                 好玩，但是全职业通关一次后就挺无聊的   \n",
       "6281  良心游戏，虽然内容不多但是真的好玩。还是一款我唯一一个多月依旧坚持在玩的游戏！即使我现在还没...   \n",
       "6282                                   无脑骑士  6张狂战斧  爽歪歪   \n",
       "6283  好玩，现在难得有个游戏可以一开始玩就停不下来，摸熟了之后女骑士果然容易通关。然后别人说游侠也...   \n",
       "6284                                    游戏不错，可惜玩几遍就厌了。。   \n",
       "6285  四职业通关。成就也基本全了。吐槽一下法师，不知道是游戏设计还是个人职业相性感觉法师难度最高。...   \n",
       "\n",
       "                       使用机型  支持人数  反对人数  \n",
       "0                 Vivo Y51A     0     0  \n",
       "1                     华为荣耀9     0     1  \n",
       "2              Vivo Xplay3S     0     0  \n",
       "3                       未公开     0     1  \n",
       "4                       未公开     0     5  \n",
       "5                  华为荣耀8青春版     0     3  \n",
       "6                  iPhone 7     0     3  \n",
       "7     华为MediaPad T2 8.0 Pro     0     1  \n",
       "8                       小米6     4     7  \n",
       "9                  OPPO A59     0     3  \n",
       "10                      未公开     0     6  \n",
       "11                      未公开     0     4  \n",
       "12                    小米手机4     0     5  \n",
       "13                      小米6     0     7  \n",
       "14                    华为荣耀8     2     6  \n",
       "15                      小米6     5     6  \n",
       "16                      小米6     0     4  \n",
       "17            OPPO R11sPlus     0     8  \n",
       "18                     华为P9     1     1  \n",
       "19                    华为畅享7     0     4  \n",
       "20                OPPO R9sk     0     1  \n",
       "21                    华为P10   196    50  \n",
       "22                      小米8     0     8  \n",
       "23                  小米MIX 2     0     3  \n",
       "24                 Vivo Y35     0     8  \n",
       "25                Vivo Y67L     0     7  \n",
       "26                   酷派C106     1     5  \n",
       "27                 OPPO A59     0     4  \n",
       "28             三星Galaxy S8+     0     8  \n",
       "29                 Vivo Y67     0     8  \n",
       "...                     ...   ...   ...  \n",
       "6256               OPPO A57     2     2  \n",
       "6257            Vivo X9Plus     0     0  \n",
       "6258                  魅族MX3     0     0  \n",
       "6259              OPPO R11s    13     1  \n",
       "6260            Vivo V6Plus     1     0  \n",
       "6261                    魅蓝3     0     0  \n",
       "6262            三星Galaxy S4     0     0  \n",
       "6263                OPPO R9     0     0  \n",
       "6264          iPhone 7 Plus     1     0  \n",
       "6265              Vivo Y51A     2     0  \n",
       "6266              红米Note 4X     1     0  \n",
       "6267                    未公开     1     0  \n",
       "6268                   华为P9     0     0  \n",
       "6269                联想A2580     0     0  \n",
       "6270           OPPO R7 Plus     1     0  \n",
       "6271               华为Mate S     1     0  \n",
       "6272               360手机N5S     0     0  \n",
       "6273              华为Mate 10     0     0  \n",
       "6274                  一加手机5     0     0  \n",
       "6275               华为Mate 9     0     1  \n",
       "6276               魅蓝Note 5     1     0  \n",
       "6277                  华为荣耀9     0     0  \n",
       "6278               魅蓝Note 5     0     0  \n",
       "6279               小米Note 2     1     0  \n",
       "6280            华为Mate 7高配版     0     0  \n",
       "6281                Vivo X6     0     0  \n",
       "6282               华为Mate 9     0     0  \n",
       "6283                    未公开     4     1  \n",
       "6284            三星Galaxy C5     0     0  \n",
       "6285                    小米6     2     0  \n",
       "\n",
       "[6286 rows x 7 columns]>"
      ]
     },
     "execution_count": 14,
     "metadata": {},
     "output_type": "execute_result"
    }
   ],
   "source": [
    "csv1.head"
   ]
  },
  {
   "cell_type": "code",
   "execution_count": 81,
   "metadata": {
    "ExecuteTime": {
     "end_time": "2018-08-06T04:15:41.746771Z",
     "start_time": "2018-08-06T04:15:41.715185Z"
    },
    "scrolled": false
   },
   "outputs": [
    {
     "data": {
      "text/plain": [
       "小米6                 7366\n",
       "红米Note 4X           3394\n",
       "小米MIX 2             2701\n",
       "华为荣耀9               2399\n",
       "小米手机5               2179\n",
       "华为荣耀8青春版            2138\n",
       "OPPO A57            2094\n",
       "Vivo Y66            2026\n",
       "OPPO R9             2022\n",
       "华为荣耀8               1938\n",
       "OPPO R11            1902\n",
       "华为Mate 9            1892\n",
       "华为荣耀V9              1825\n",
       "Vivo X9             1789\n",
       "Vivo X20            1655\n",
       "小米5X                1634\n",
       "OPPO R9s            1590\n",
       "红米5 Plus            1570\n",
       "一加手机5               1563\n",
       "华为P9                1511\n",
       "华为荣耀V10             1483\n",
       "一加手机5T              1468\n",
       "Vivo X7             1396\n",
       "魅族M6 Note           1387\n",
       "小米5S                1324\n",
       "小米Note 3            1308\n",
       "小米8                 1272\n",
       "Vivo Y67            1265\n",
       "小米MAX 2             1252\n",
       "魅蓝Note 5            1218\n",
       "华为Mate 8            1203\n",
       "小米5S Plus           1200\n",
       "iPhone 6s           1175\n",
       "华为荣耀畅玩7X            1171\n",
       "华为荣耀畅享7 Plus        1160\n",
       "红米Note 3            1146\n",
       "华为荣耀畅玩6X            1143\n",
       "iPhone 7 Plus       1120\n",
       "小米MIX 2S            1090\n",
       "iPhone 7            1085\n",
       "OPPO A59s           1072\n",
       "华为P10               1011\n",
       "荣耀畅玩6X              1003\n",
       "iPhone 6            1001\n",
       "Vivo Y51A            986\n",
       "华为荣耀畅玩5A             973\n",
       "三星Galaxy S8+         956\n",
       "华为荣耀V8               942\n",
       "红米Note4              915\n",
       "OPPO A37             872\n",
       "三星Galaxy S7 Edge     861\n",
       "iPhone 6s Plus       854\n",
       "iPhone X             854\n",
       "华为Nova 2s            828\n",
       "华为麦芒5                825\n",
       "华为荣耀10               807\n",
       "乐2                   797\n",
       "OPPO R9sk            772\n",
       "华为畅享6S               760\n",
       "华为Mate 10            756\n",
       "Name: 使用机型, dtype: int64"
      ]
     },
     "execution_count": 81,
     "metadata": {},
     "output_type": "execute_result"
    }
   ],
   "source": [
    "bigCorpus['使用机型'].value_counts()[1:61]"
   ]
  },
  {
   "cell_type": "code",
   "execution_count": 16,
   "metadata": {
    "ExecuteTime": {
     "end_time": "2018-08-06T03:18:19.788917Z",
     "start_time": "2018-08-06T03:18:19.689016Z"
    },
    "scrolled": true
   },
   "outputs": [
    {
     "data": {
      "text/plain": [
       "未公开                      1192\n",
       "小米6                       772\n",
       "红米Note 4X                 280\n",
       "OPPO A57                  246\n",
       "OPPO R11                  244\n",
       "小米MIX 2                   218\n",
       "Vivo Y66                  217\n",
       "Vivo X9                   198\n",
       "OPPO R9s                  195\n",
       "一加手机5                     192\n",
       "华为荣耀9                     189\n",
       "小米手机5                     185\n",
       "Vivo X20                  182\n",
       "OPPO R9                   178\n",
       "Android                   175\n",
       "华为荣耀V9                    173\n",
       "华为荣耀8青春版                  170\n",
       "华为荣耀畅玩5A                  165\n",
       "小米5X                      156\n",
       "Vivo X7                   150\n",
       "华为Mate 9                  138\n",
       "华为荣耀8                     137\n",
       "Vivo Y51A                 136\n",
       "一加手机5T                    125\n",
       "华为荣耀V10                   116\n",
       "iPhone 7 Plus             114\n",
       "红米5 Plus                  113\n",
       "小米Note 3                  112\n",
       "华为荣耀畅玩6X                  108\n",
       "小米MAX 2                   107\n",
       "                         ... \n",
       "华为MediaPad                  1\n",
       "华硕ZenPad 8.0 (Z380KL)       1\n",
       "GOME 2017M27A               1\n",
       "索尼Xperia™ M4 Aqua           1\n",
       "金立E7                        1\n",
       "Lephone T2V                 1\n",
       "OPPO A31t                   1\n",
       "联想乐檬X3                      1\n",
       "CUBE U65GT                  1\n",
       "Vivo X3t                    1\n",
       "华为Y6 Pro                    1\n",
       "M3                          1\n",
       "三星Galaxy Tab S              1\n",
       "Vivo X6SPlus A              1\n",
       "海信E51-M                     1\n",
       "360 1703-M01                1\n",
       "Vivo Y928                   1\n",
       "华为Y3II                      1\n",
       "红米Note 4                    1\n",
       "Vivo 1727                   1\n",
       "锤子坚果                        1\n",
       "BIFER BF T20                1\n",
       "三星N8010                     1\n",
       "LG X Style                  1\n",
       "华为G730-U251                 1\n",
       "华硕Nexus 7 (2013)            1\n",
       "BIFER BF T61                1\n",
       "LeEco LEX722                1\n",
       "中兴远航3                       1\n",
       "三星Galaxy Mega 5.8           1\n",
       "Name: 使用机型, Length: 1158, dtype: int64"
      ]
     },
     "execution_count": 16,
     "metadata": {},
     "output_type": "execute_result"
    }
   ],
   "source": [
    "csv2 = pd.read_csv(data_path/fileList[2], engine='python', encoding='utf-8')\n",
    "csv2['使用机型'].value_counts()"
   ]
  },
  {
   "cell_type": "code",
   "execution_count": 68,
   "metadata": {
    "ExecuteTime": {
     "end_time": "2018-08-06T04:13:46.284209Z",
     "start_time": "2018-08-06T04:13:46.282357Z"
    },
    "collapsed": true
   },
   "outputs": [],
   "source": [
    "brands = ['一加', '华为/荣耀', '魅族/魅蓝','OPPO', 'Vivo', '三星', '红米/小米', 'iPhone']"
   ]
  },
  {
   "cell_type": "code",
   "execution_count": 69,
   "metadata": {
    "ExecuteTime": {
     "end_time": "2018-08-06T04:13:47.361725Z",
     "start_time": "2018-08-06T04:13:46.712790Z"
    }
   },
   "outputs": [],
   "source": [
    "stat = {k: 0 for k in brands}\n",
    "for item in bigCorpus['使用机型'].values:\n",
    "    for b in brands:\n",
    "        if len(b.split('/')) > 1:\n",
    "            for seg in b.split('/'):\n",
    "                if seg in item:\n",
    "                    stat[b] += 1\n",
    "                    break\n",
    "        else:\n",
    "            if b in item:\n",
    "                stat[b] += 1\n",
    "                break"
   ]
  },
  {
   "cell_type": "code",
   "execution_count": 71,
   "metadata": {
    "ExecuteTime": {
     "end_time": "2018-08-06T04:13:48.067133Z",
     "start_time": "2018-08-06T04:13:48.065091Z"
    }
   },
   "outputs": [],
   "source": [
    "brandStat = pd.Series(stat)"
   ]
  },
  {
   "cell_type": "code",
   "execution_count": 72,
   "metadata": {
    "ExecuteTime": {
     "end_time": "2018-08-06T04:13:49.543856Z",
     "start_time": "2018-08-06T04:13:49.540721Z"
    }
   },
   "outputs": [
    {
     "data": {
      "text/plain": [
       "150963"
      ]
     },
     "execution_count": 72,
     "metadata": {},
     "output_type": "execute_result"
    }
   ],
   "source": [
    "brandStat.sum()"
   ]
  },
  {
   "cell_type": "code",
   "execution_count": 73,
   "metadata": {
    "ExecuteTime": {
     "end_time": "2018-08-06T04:13:50.620047Z",
     "start_time": "2018-08-06T04:13:50.355909Z"
    }
   },
   "outputs": [
    {
     "data": {
      "text/plain": [
       "<matplotlib.axes._subplots.AxesSubplot at 0x7fa59c8aafd0>"
      ]
     },
     "execution_count": 73,
     "metadata": {},
     "output_type": "execute_result"
    },
    {
     "data": {
      "image/png": "[encoded data removed]",
      "text/plain": [
       "<Figure size 1440x864 with 1 Axes>"
      ]
     },
     "metadata": {},
     "output_type": "display_data"
    }
   ],
   "source": [
    "brandStat.plot.bar(fontsize=20, figsize=(20, 12))"
   ]
  },
  {
   "cell_type": "code",
   "execution_count": 19,
   "metadata": {
    "ExecuteTime": {
     "end_time": "2018-08-06T03:18:19.829406Z",
     "start_time": "2018-08-06T03:18:19.818289Z"
    }
   },
   "outputs": [
    {
     "data": {
      "text/plain": [
       "array(['id', '时间', '打分', '评论内容', '使用机型', '支持人数', '反对人数'], dtype=object)"
      ]
     },
     "execution_count": 19,
     "metadata": {},
     "output_type": "execute_result"
    }
   ],
   "source": [
    "csv2.columns.values"
   ]
  },
  {
   "cell_type": "code",
   "execution_count": 20,
   "metadata": {
    "ExecuteTime": {
     "end_time": "2018-08-06T03:18:19.838164Z",
     "start_time": "2018-08-06T03:18:19.830146Z"
    }
   },
   "outputs": [
    {
     "data": {
      "text/plain": [
       "{'小米': 2153,\n",
       " '华为': 3132,\n",
       " 'OPPO': 1884,\n",
       " 'Vivo': 2125,\n",
       " '三星': 1041,\n",
       " '中兴': 43,\n",
       " '魅族': 570,\n",
       " '红米': 1039,\n",
       " 'iPhone': 772}"
      ]
     },
     "execution_count": 20,
     "metadata": {},
     "output_type": "execute_result"
    }
   ],
   "source": [
    "stat"
   ]
  },
  {
   "cell_type": "code",
   "execution_count": 21,
   "metadata": {
    "ExecuteTime": {
     "end_time": "2018-08-06T03:18:19.850379Z",
     "start_time": "2018-08-06T03:18:19.838890Z"
    },
    "collapsed": true
   },
   "outputs": [],
   "source": [
    "newCsv = pd.concat([csv1, csv2])"
   ]
  },
  {
   "cell_type": "code",
   "execution_count": 22,
   "metadata": {
    "ExecuteTime": {
     "end_time": "2018-08-06T03:18:19.876758Z",
     "start_time": "2018-08-06T03:18:19.851343Z"
    }
   },
   "outputs": [
    {
     "data": {
      "text/html": [
       "<div>\n",
       "<style scoped>\n",
       "    .dataframe tbody tr th:only-of-type {\n",
       "        vertical-align: middle;\n",
       "    }\n",
       "\n",
       "    .dataframe tbody tr th {\n",
       "        vertical-align: top;\n",
       "    }\n",
       "\n",
       "    .dataframe thead th {\n",
       "        text-align: right;\n",
       "    }\n",
       "</style>\n",
       "<table border=\"1\" class=\"dataframe\">\n",
       "  <thead>\n",
       "    <tr style=\"text-align: right;\">\n",
       "      <th></th>\n",
       "      <th>id</th>\n",
       "      <th>时间</th>\n",
       "      <th>打分</th>\n",
       "      <th>评论内容</th>\n",
       "      <th>使用机型</th>\n",
       "      <th>支持人数</th>\n",
       "      <th>反对人数</th>\n",
       "    </tr>\n",
       "  </thead>\n",
       "  <tbody>\n",
       "    <tr>\n",
       "      <th>0</th>\n",
       "      <td>埃罗芒蝶</td>\n",
       "      <td>2018-08-04</td>\n",
       "      <td>1</td>\n",
       "      <td>我已经不想说什么了，死都不发信息给我</td>\n",
       "      <td>Vivo Y51A</td>\n",
       "      <td>0</td>\n",
       "      <td>0</td>\n",
       "    </tr>\n",
       "    <tr>\n",
       "      <th>1</th>\n",
       "      <td>政治再爱我一次</td>\n",
       "      <td>2018-08-04</td>\n",
       "      <td>1</td>\n",
       "      <td>***游戏抄袭还抄的这么烂也是无语了</td>\n",
       "      <td>华为荣耀9</td>\n",
       "      <td>0</td>\n",
       "      <td>1</td>\n",
       "    </tr>\n",
       "    <tr>\n",
       "      <th>2</th>\n",
       "      <td>手机用户10417237</td>\n",
       "      <td>2018-08-02</td>\n",
       "      <td>1</td>\n",
       "      <td>有一个bug，当爆牌选卡时往从右往左滑动时总会回到第一张卡的位置，根本拖不到后面，太烦人了。</td>\n",
       "      <td>Vivo Xplay3S</td>\n",
       "      <td>0</td>\n",
       "      <td>0</td>\n",
       "    </tr>\n",
       "    <tr>\n",
       "      <th>3</th>\n",
       "      <td>a13632</td>\n",
       "      <td>2018-08-02</td>\n",
       "      <td>1</td>\n",
       "      <td>boss好难打啊，这游戏真的对新人很不友好</td>\n",
       "      <td>未公开</td>\n",
       "      <td>0</td>\n",
       "      <td>1</td>\n",
       "    </tr>\n",
       "    <tr>\n",
       "      <th>4</th>\n",
       "      <td>长脸绵羊</td>\n",
       "      <td>2018-08-01</td>\n",
       "      <td>1</td>\n",
       "      <td>本想给五星的看了下一星评论才明白我有多蠢╰(*´︶`*)╯</td>\n",
       "      <td>未公开</td>\n",
       "      <td>0</td>\n",
       "      <td>5</td>\n",
       "    </tr>\n",
       "    <tr>\n",
       "      <th>5</th>\n",
       "      <td>。</td>\n",
       "      <td>2018-07-31</td>\n",
       "      <td>1</td>\n",
       "      <td>这他妈是人玩的游戏啊   打神秘人是打这打着就没回合就出不了牌了***个锤子</td>\n",
       "      <td>华为荣耀8青春版</td>\n",
       "      <td>0</td>\n",
       "      <td>3</td>\n",
       "    </tr>\n",
       "    <tr>\n",
       "      <th>6</th>\n",
       "      <td>對著鏡子練習微笑~</td>\n",
       "      <td>2018-07-31</td>\n",
       "      <td>1</td>\n",
       "      <td>游戏是个好游戏。。但为什么ios用户要体验完整的内容需要付12元？安卓用户只要付6元呢？我希...</td>\n",
       "      <td>iPhone 7</td>\n",
       "      <td>0</td>\n",
       "      <td>3</td>\n",
       "    </tr>\n",
       "    <tr>\n",
       "      <th>7</th>\n",
       "      <td>MAX(ERYZ)</td>\n",
       "      <td>2018-07-31</td>\n",
       "      <td>1</td>\n",
       "      <td>为什么不能登微信，网好好的呀，关键是我还买了魔术师呢，还我6块钱</td>\n",
       "      <td>华为MediaPad T2 8.0 Pro</td>\n",
       "      <td>0</td>\n",
       "      <td>1</td>\n",
       "    </tr>\n",
       "    <tr>\n",
       "      <th>8</th>\n",
       "      <td>热柠檬</td>\n",
       "      <td>2018-07-30</td>\n",
       "      <td>1</td>\n",
       "      <td>一开始以为遇到个不错的游戏，结果玩着玩着就感觉不对了。别的不说，游侠那几张“背刺”，“追击”...</td>\n",
       "      <td>小米6</td>\n",
       "      <td>4</td>\n",
       "      <td>7</td>\n",
       "    </tr>\n",
       "    <tr>\n",
       "      <th>9</th>\n",
       "      <td>辛苦辛苦</td>\n",
       "      <td>2018-07-27</td>\n",
       "      <td>1</td>\n",
       "      <td>血很少就谁也打不过只能重新开始</td>\n",
       "      <td>OPPO A59</td>\n",
       "      <td>0</td>\n",
       "      <td>3</td>\n",
       "    </tr>\n",
       "    <tr>\n",
       "      <th>10</th>\n",
       "      <td>天</td>\n",
       "      <td>2018-07-23</td>\n",
       "      <td>1</td>\n",
       "      <td>这游戏有bug最终boos只剩28滴血我毒也能 毒死。狼人那个技能直接让他回了60滴血。我当...</td>\n",
       "      <td>未公开</td>\n",
       "      <td>0</td>\n",
       "      <td>6</td>\n",
       "    </tr>\n",
       "    <tr>\n",
       "      <th>11</th>\n",
       "      <td>しゃせい</td>\n",
       "      <td>2018-07-22</td>\n",
       "      <td>1</td>\n",
       "      <td>这游戏判定恶不恶心？最后boss狼人我一共打上了21层毒狼人被我打残剩4滴血然后愉悦的事情发生了</td>\n",
       "      <td>未公开</td>\n",
       "      <td>0</td>\n",
       "      <td>4</td>\n",
       "    </tr>\n",
       "    <tr>\n",
       "      <th>12</th>\n",
       "      <td>手机用户15007854</td>\n",
       "      <td>2018-07-21</td>\n",
       "      <td>1</td>\n",
       "      <td>太难了  不适合我   一个噩梦狼人打了两个点谁也没放倒谁</td>\n",
       "      <td>小米手机4</td>\n",
       "      <td>0</td>\n",
       "      <td>5</td>\n",
       "    </tr>\n",
       "    <tr>\n",
       "      <th>13</th>\n",
       "      <td>无所不日其极</td>\n",
       "      <td>2018-07-13</td>\n",
       "      <td>1</td>\n",
       "      <td>是真的厚颜无耻狼人哪里恢复以损失百分之20的生命值很强就是说你要一回合打出100的伤害才行</td>\n",
       "      <td>小米6</td>\n",
       "      <td>0</td>\n",
       "      <td>7</td>\n",
       "    </tr>\n",
       "    <tr>\n",
       "      <th>14</th>\n",
       "      <td>。。。</td>\n",
       "      <td>2018-07-12</td>\n",
       "      <td>1</td>\n",
       "      <td>为什么现在这么多的手游，都要学着去抄袭Dota2呢？这游戏里面几个图标，人物名字，甚至是配音...</td>\n",
       "      <td>华为荣耀8</td>\n",
       "      <td>2</td>\n",
       "      <td>6</td>\n",
       "    </tr>\n",
       "    <tr>\n",
       "      <th>15</th>\n",
       "      <td>手机用户11220470</td>\n",
       "      <td>2018-07-12</td>\n",
       "      <td>1</td>\n",
       "      <td>为什么一个国内抄袭游戏，能够得奖还一堆人赞？虽然好玩，但是是使用别人的劳动成果啊！支持这种作...</td>\n",
       "      <td>小米6</td>\n",
       "      <td>5</td>\n",
       "      <td>6</td>\n",
       "    </tr>\n",
       "    <tr>\n",
       "      <th>16</th>\n",
       "      <td>good boy</td>\n",
       "      <td>2018-07-12</td>\n",
       "      <td>1</td>\n",
       "      <td>这个能那么容易通关！！！容易难度感觉都很难</td>\n",
       "      <td>小米6</td>\n",
       "      <td>0</td>\n",
       "      <td>4</td>\n",
       "    </tr>\n",
       "    <tr>\n",
       "      <th>17</th>\n",
       "      <td>从没.</td>\n",
       "      <td>2018-07-10</td>\n",
       "      <td>1</td>\n",
       "      <td>敌人技能太变态 改改吧 卸载了</td>\n",
       "      <td>OPPO R11sPlus</td>\n",
       "      <td>0</td>\n",
       "      <td>8</td>\n",
       "    </tr>\n",
       "    <tr>\n",
       "      <th>18</th>\n",
       "      <td>NaNa</td>\n",
       "      <td>2018-07-10</td>\n",
       "      <td>1</td>\n",
       "      <td>我的存档自动消失了😭😭😭😭😭😭什么鬼😭</td>\n",
       "      <td>华为P9</td>\n",
       "      <td>1</td>\n",
       "      <td>1</td>\n",
       "    </tr>\n",
       "    <tr>\n",
       "      <th>19</th>\n",
       "      <td>皮皮虾</td>\n",
       "      <td>2018-07-10</td>\n",
       "      <td>1</td>\n",
       "      <td>你就告诉我大灰狼那关咋过我真是受不了太踏马恶心了</td>\n",
       "      <td>华为畅享7</td>\n",
       "      <td>0</td>\n",
       "      <td>4</td>\n",
       "    </tr>\n",
       "    <tr>\n",
       "      <th>20</th>\n",
       "      <td>呵呵</td>\n",
       "      <td>2018-07-10</td>\n",
       "      <td>1</td>\n",
       "      <td>为什么我用QQ买过，登录QQ后却没有</td>\n",
       "      <td>OPPO R9sk</td>\n",
       "      <td>0</td>\n",
       "      <td>1</td>\n",
       "    </tr>\n",
       "    <tr>\n",
       "      <th>21</th>\n",
       "      <td>陈雨</td>\n",
       "      <td>2018-07-09</td>\n",
       "      <td>1</td>\n",
       "      <td>不废话了，换皮抄袭，0分，我会永远抵制。…………事情终于暂作解决的分割线，赶快更新对游戏本身...</td>\n",
       "      <td>华为P10</td>\n",
       "      <td>196</td>\n",
       "      <td>50</td>\n",
       "    </tr>\n",
       "    <tr>\n",
       "      <th>22</th>\n",
       "      <td>Hawkwood</td>\n",
       "      <td>2018-07-09</td>\n",
       "      <td>1</td>\n",
       "      <td>你们说的新手友好度我怎么没遇到？？？一共玩了4把，两次狼人两次女巫，手里没金币的时候连着出商...</td>\n",
       "      <td>小米8</td>\n",
       "      <td>0</td>\n",
       "      <td>8</td>\n",
       "    </tr>\n",
       "    <tr>\n",
       "      <th>23</th>\n",
       "      <td>uk2lili</td>\n",
       "      <td>2018-07-08</td>\n",
       "      <td>1</td>\n",
       "      <td>不知道再改啥，法师到现在还是完全看脸。我经常第二关中旬才拿到第一张伤害卡，前面全是什么过牌法...</td>\n",
       "      <td>小米MIX 2</td>\n",
       "      <td>0</td>\n",
       "      <td>3</td>\n",
       "    </tr>\n",
       "    <tr>\n",
       "      <th>24</th>\n",
       "      <td>T irrom</td>\n",
       "      <td>2018-07-06</td>\n",
       "      <td>1</td>\n",
       "      <td>不好玩，拿不好牌就得重新开始，不推荐玩</td>\n",
       "      <td>Vivo Y35</td>\n",
       "      <td>0</td>\n",
       "      <td>8</td>\n",
       "    </tr>\n",
       "    <tr>\n",
       "      <th>25</th>\n",
       "      <td>拈歌画眸唱长卿</td>\n",
       "      <td>2018-07-06</td>\n",
       "      <td>1</td>\n",
       "      <td>玩了几天，什么破系统，要打过去时，难度就加大，最后一关，怎么打都打不过去</td>\n",
       "      <td>Vivo Y67L</td>\n",
       "      <td>0</td>\n",
       "      <td>7</td>\n",
       "    </tr>\n",
       "    <tr>\n",
       "      <th>26</th>\n",
       "      <td>水族。冰</td>\n",
       "      <td>2018-07-05</td>\n",
       "      <td>1</td>\n",
       "      <td>白花我六块钱买魔术师，都吞下去没了，一更新就白买了</td>\n",
       "      <td>酷派C106</td>\n",
       "      <td>1</td>\n",
       "      <td>5</td>\n",
       "    </tr>\n",
       "    <tr>\n",
       "      <th>27</th>\n",
       "      <td>微笑掩飾悲伤</td>\n",
       "      <td>2018-07-05</td>\n",
       "      <td>1</td>\n",
       "      <td>真TM坑，多放这么多攻击，我的牌还没有治疗，咋打也过不去了</td>\n",
       "      <td>OPPO A59</td>\n",
       "      <td>0</td>\n",
       "      <td>4</td>\n",
       "    </tr>\n",
       "    <tr>\n",
       "      <th>28</th>\n",
       "      <td>恋糖ゐ猫</td>\n",
       "      <td>2018-07-04</td>\n",
       "      <td>1</td>\n",
       "      <td>这个游戏后面的BOSS根本打不过去有复活甲也没有用，太闹心了，这个游戏有bug有一次可以打死...</td>\n",
       "      <td>三星Galaxy S8+</td>\n",
       "      <td>0</td>\n",
       "      <td>8</td>\n",
       "    </tr>\n",
       "    <tr>\n",
       "      <th>29</th>\n",
       "      <td>二小罗子</td>\n",
       "      <td>2018-07-04</td>\n",
       "      <td>1</td>\n",
       "      <td>回血很绝望四十滴血打几百的章鱼你是叫我去死吗？？？绝望心态崩了再玩这个游戏我是傻子</td>\n",
       "      <td>Vivo Y67</td>\n",
       "      <td>0</td>\n",
       "      <td>8</td>\n",
       "    </tr>\n",
       "    <tr>\n",
       "      <th>...</th>\n",
       "      <td>...</td>\n",
       "      <td>...</td>\n",
       "      <td>...</td>\n",
       "      <td>...</td>\n",
       "      <td>...</td>\n",
       "      <td>...</td>\n",
       "      <td>...</td>\n",
       "    </tr>\n",
       "    <tr>\n",
       "      <th>16776</th>\n",
       "      <td>守护、</td>\n",
       "      <td>2018-02-11</td>\n",
       "      <td>5</td>\n",
       "      <td>就有一点，在河里捡个空投后，就开始掉血，就淹死了，什么鬼</td>\n",
       "      <td>OPPO A57</td>\n",
       "      <td>0</td>\n",
       "      <td>0</td>\n",
       "    </tr>\n",
       "    <tr>\n",
       "      <th>16777</th>\n",
       "      <td>BABA YAGA</td>\n",
       "      <td>2018-02-11</td>\n",
       "      <td>5</td>\n",
       "      <td>where i can redeem the code in game for limite...</td>\n",
       "      <td>三星Galaxy Note4</td>\n",
       "      <td>0</td>\n",
       "      <td>0</td>\n",
       "    </tr>\n",
       "    <tr>\n",
       "      <th>16778</th>\n",
       "      <td>豆芽阿姨</td>\n",
       "      <td>2018-02-11</td>\n",
       "      <td>5</td>\n",
       "      <td>给五星是真的喜欢这款游戏，可能你们还在测试当中，但是希望尽快优化，游戏中总是让我重新登陆，还...</td>\n",
       "      <td>红米Note 3</td>\n",
       "      <td>0</td>\n",
       "      <td>1</td>\n",
       "    </tr>\n",
       "    <tr>\n",
       "      <th>16779</th>\n",
       "      <td>木子</td>\n",
       "      <td>2018-02-11</td>\n",
       "      <td>5</td>\n",
       "      <td>首先游戏是真的好，然后我想问，这个游戏可以Android和ios一起玩吗？</td>\n",
       "      <td>魅族MX3</td>\n",
       "      <td>0</td>\n",
       "      <td>0</td>\n",
       "    </tr>\n",
       "    <tr>\n",
       "      <th>16780</th>\n",
       "      <td>少年与狗</td>\n",
       "      <td>2018-02-11</td>\n",
       "      <td>5</td>\n",
       "      <td>良心推荐，全军出击真的比刺激战场好玩！</td>\n",
       "      <td>OPPO R11</td>\n",
       "      <td>1</td>\n",
       "      <td>0</td>\n",
       "    </tr>\n",
       "    <tr>\n",
       "      <th>16781</th>\n",
       "      <td>徐东琪（手机）</td>\n",
       "      <td>2018-02-11</td>\n",
       "      <td>5</td>\n",
       "      <td>特别真实尤其是枪的机瞄太真实了！而且头盔平底锅和枪械特别有金属感，包括倍镜做的和电脑版一毛一...</td>\n",
       "      <td>iPad Air</td>\n",
       "      <td>0</td>\n",
       "      <td>0</td>\n",
       "    </tr>\n",
       "    <tr>\n",
       "      <th>16782</th>\n",
       "      <td>Polaris</td>\n",
       "      <td>2018-02-11</td>\n",
       "      <td>5</td>\n",
       "      <td>蛮好的打了三把吃鸡两把，就是不懂为什么空投箱老是降落在毒区</td>\n",
       "      <td>一加手机5</td>\n",
       "      <td>0</td>\n",
       "      <td>0</td>\n",
       "    </tr>\n",
       "    <tr>\n",
       "      <th>16783</th>\n",
       "      <td>✿͜熊二✿͜</td>\n",
       "      <td>2018-02-11</td>\n",
       "      <td>5</td>\n",
       "      <td>这手游绝地求生模仿端游非常像希望大家一起下载</td>\n",
       "      <td>未公开</td>\n",
       "      <td>1</td>\n",
       "      <td>0</td>\n",
       "    </tr>\n",
       "    <tr>\n",
       "      <th>16784</th>\n",
       "      <td>蔣卓睿</td>\n",
       "      <td>2018-02-11</td>\n",
       "      <td>5</td>\n",
       "      <td>👉最好吃鸡手游！全军出击画质，地图，细节真的没话说，腾讯出品，又是蓝洞授权的正版，说实话无论...</td>\n",
       "      <td>华为Mate 9 Pro</td>\n",
       "      <td>0</td>\n",
       "      <td>0</td>\n",
       "    </tr>\n",
       "    <tr>\n",
       "      <th>16785</th>\n",
       "      <td>╲ゝ血域乄神罚灵界龙曦</td>\n",
       "      <td>2018-02-11</td>\n",
       "      <td>5</td>\n",
       "      <td>相比于天美自己的荒岛特训和wy的换装大秀算是不错的了</td>\n",
       "      <td>红米4X</td>\n",
       "      <td>1</td>\n",
       "      <td>0</td>\n",
       "    </tr>\n",
       "    <tr>\n",
       "      <th>16786</th>\n",
       "      <td>雪贼花</td>\n",
       "      <td>2018-02-11</td>\n",
       "      <td>5</td>\n",
       "      <td>说实话，这是我第一次给国产的（特别是腾讯）游戏打五星好评，当然，打五星并不是说它做得很好，只...</td>\n",
       "      <td>华为荣耀畅玩7X</td>\n",
       "      <td>2</td>\n",
       "      <td>0</td>\n",
       "    </tr>\n",
       "    <tr>\n",
       "      <th>16787</th>\n",
       "      <td>永恒♛-浅夏</td>\n",
       "      <td>2018-02-11</td>\n",
       "      <td>5</td>\n",
       "      <td>虽然没有刺激好玩  但是流畅好 不卡 刺激有点卡不是手机问题</td>\n",
       "      <td>华为荣耀畅享7 Plus</td>\n",
       "      <td>1</td>\n",
       "      <td>0</td>\n",
       "    </tr>\n",
       "    <tr>\n",
       "      <th>16788</th>\n",
       "      <td>QQ用户19887768</td>\n",
       "      <td>2018-02-11</td>\n",
       "      <td>5</td>\n",
       "      <td>好游戏，最好再优化一下植被和建筑</td>\n",
       "      <td>华为G9青春版</td>\n",
       "      <td>0</td>\n",
       "      <td>0</td>\n",
       "    </tr>\n",
       "    <tr>\n",
       "      <th>16789</th>\n",
       "      <td>手机用户20367699</td>\n",
       "      <td>2018-02-11</td>\n",
       "      <td>5</td>\n",
       "      <td>这么快就有摩托车了，天美的效率牛逼。</td>\n",
       "      <td>红米Note 4X</td>\n",
       "      <td>0</td>\n",
       "      <td>0</td>\n",
       "    </tr>\n",
       "    <tr>\n",
       "      <th>16790</th>\n",
       "      <td>我们一起猜猜猜</td>\n",
       "      <td>2018-02-11</td>\n",
       "      <td>5</td>\n",
       "      <td>你怕是该出聊天系统了，等好友一起玩，消息都不能发一个。。。</td>\n",
       "      <td>华为Mate 9</td>\n",
       "      <td>1</td>\n",
       "      <td>0</td>\n",
       "    </tr>\n",
       "    <tr>\n",
       "      <th>16791</th>\n",
       "      <td>15368668@Social</td>\n",
       "      <td>2018-02-11</td>\n",
       "      <td>5</td>\n",
       "      <td>刺激战场的房子全是空荡的毛坯房，还是喜欢全军出击</td>\n",
       "      <td>未公开</td>\n",
       "      <td>0</td>\n",
       "      <td>0</td>\n",
       "    </tr>\n",
       "    <tr>\n",
       "      <th>16792</th>\n",
       "      <td>手机用户18895398</td>\n",
       "      <td>2018-02-11</td>\n",
       "      <td>5</td>\n",
       "      <td>这是市面上画面最好的吃鸡游戏了吧</td>\n",
       "      <td>华为nova青春版</td>\n",
       "      <td>0</td>\n",
       "      <td>0</td>\n",
       "    </tr>\n",
       "    <tr>\n",
       "      <th>16793</th>\n",
       "      <td>混世大魔王</td>\n",
       "      <td>2018-02-11</td>\n",
       "      <td>5</td>\n",
       "      <td>比对面光子好多了   尤其是机型   这里畅玩5A可以玩  对面光子玩会就给你来个机型不配 ...</td>\n",
       "      <td>华为荣耀畅玩5A</td>\n",
       "      <td>1</td>\n",
       "      <td>0</td>\n",
       "    </tr>\n",
       "    <tr>\n",
       "      <th>16794</th>\n",
       "      <td>okok</td>\n",
       "      <td>2018-02-11</td>\n",
       "      <td>5</td>\n",
       "      <td>那些没见过世面的土鳖，这才是高画质吃鸡</td>\n",
       "      <td>OPPO A59s</td>\n",
       "      <td>0</td>\n",
       "      <td>0</td>\n",
       "    </tr>\n",
       "    <tr>\n",
       "      <th>16795</th>\n",
       "      <td>嘿恩它一</td>\n",
       "      <td>2018-02-11</td>\n",
       "      <td>5</td>\n",
       "      <td>有次跳房子。。卡窗户了。。被个枪法好准的人打了八分钟都没打死。我想死。</td>\n",
       "      <td>Vivo Y67</td>\n",
       "      <td>0</td>\n",
       "      <td>0</td>\n",
       "    </tr>\n",
       "    <tr>\n",
       "      <th>16796</th>\n",
       "      <td>QQ用户12539973</td>\n",
       "      <td>2018-02-11</td>\n",
       "      <td>5</td>\n",
       "      <td>我建议把模拟器和模拟器玩，但组队的时候可以把模拟器和手机邀请在一起，跟别的模拟器打。还有，我...</td>\n",
       "      <td>华为P10 Plus</td>\n",
       "      <td>1</td>\n",
       "      <td>0</td>\n",
       "    </tr>\n",
       "    <tr>\n",
       "      <th>16797</th>\n",
       "      <td>手机用户18168265</td>\n",
       "      <td>2018-02-11</td>\n",
       "      <td>5</td>\n",
       "      <td>比荒野好很多   最近玩了这腾讯两款手游   感觉为什么我的Mate9玩全军更流畅？刺激战场...</td>\n",
       "      <td>华为Mate 9</td>\n",
       "      <td>1</td>\n",
       "      <td>0</td>\n",
       "    </tr>\n",
       "    <tr>\n",
       "      <th>16798</th>\n",
       "      <td>寒羽</td>\n",
       "      <td>2018-02-11</td>\n",
       "      <td>5</td>\n",
       "      <td>请问刚下飞机在天空中就掉半管血是怎么回事…</td>\n",
       "      <td>Vivo Xplay5</td>\n",
       "      <td>0</td>\n",
       "      <td>0</td>\n",
       "    </tr>\n",
       "    <tr>\n",
       "      <th>16799</th>\n",
       "      <td>源酱啦</td>\n",
       "      <td>2018-02-11</td>\n",
       "      <td>5</td>\n",
       "      <td>天美爸爸能不能给魅族手机优化优化，我开最低画质都卡，期待优化魅族</td>\n",
       "      <td>魅族M6</td>\n",
       "      <td>1</td>\n",
       "      <td>0</td>\n",
       "    </tr>\n",
       "    <tr>\n",
       "      <th>16800</th>\n",
       "      <td>统一李师傅</td>\n",
       "      <td>2018-02-11</td>\n",
       "      <td>5</td>\n",
       "      <td>我只是个普通玩家各种手机吃鸡我也都玩过，也纠结过刺激和全军，两款我也都玩了都不错但是我选择了...</td>\n",
       "      <td>三星Galaxy S7 Edge</td>\n",
       "      <td>1</td>\n",
       "      <td>3</td>\n",
       "    </tr>\n",
       "    <tr>\n",
       "      <th>16801</th>\n",
       "      <td>哪有这么多热情</td>\n",
       "      <td>2018-02-11</td>\n",
       "      <td>5</td>\n",
       "      <td>光子工作室做游戏是为了让大众开心天美工作室做游戏是为了赚钱不信的话你去玩玩刺激战场全军就是优...</td>\n",
       "      <td>华为荣耀8青春版</td>\n",
       "      <td>3</td>\n",
       "      <td>0</td>\n",
       "    </tr>\n",
       "    <tr>\n",
       "      <th>16802</th>\n",
       "      <td>手机用户8383341</td>\n",
       "      <td>2018-02-11</td>\n",
       "      <td>5</td>\n",
       "      <td>真心很不错，你们说用脚做游戏我是真的不理解天美画质不仅好就连我这机型都能流畅玩可见优化也是做...</td>\n",
       "      <td>Vivo V3Max</td>\n",
       "      <td>2</td>\n",
       "      <td>2</td>\n",
       "    </tr>\n",
       "    <tr>\n",
       "      <th>16803</th>\n",
       "      <td>6199923@Social</td>\n",
       "      <td>2018-02-11</td>\n",
       "      <td>5</td>\n",
       "      <td>我终于知道为什么我朋友都玩刺激战场了因为他们没有枪法基本是手残党而刺激战场带辅助瞄准，对没有...</td>\n",
       "      <td>华为荣耀畅玩5A</td>\n",
       "      <td>0</td>\n",
       "      <td>1</td>\n",
       "    </tr>\n",
       "    <tr>\n",
       "      <th>16804</th>\n",
       "      <td>ikvkcm</td>\n",
       "      <td>2018-02-11</td>\n",
       "      <td>5</td>\n",
       "      <td>还好吧，有时候我的会有一点点卡，而且不容易看见人，。不过和小伙伴们一起玩还是非常不错的。小地...</td>\n",
       "      <td>红米Note 4X</td>\n",
       "      <td>0</td>\n",
       "      <td>0</td>\n",
       "    </tr>\n",
       "    <tr>\n",
       "      <th>16805</th>\n",
       "      <td>薛之坤i</td>\n",
       "      <td>2018-02-11</td>\n",
       "      <td>5</td>\n",
       "      <td>怎么说呢 两款游戏我都玩 出击的论坛就说一下出击的问题吧 第一 有bug 我跳到宿舍 卡在楼...</td>\n",
       "      <td>红米5 Plus</td>\n",
       "      <td>0</td>\n",
       "      <td>0</td>\n",
       "    </tr>\n",
       "  </tbody>\n",
       "</table>\n",
       "<p>23092 rows × 7 columns</p>\n",
       "</div>"
      ],
      "text/plain": [
       "                    id          时间  打分  \\\n",
       "0                 埃罗芒蝶  2018-08-04   1   \n",
       "1              政治再爱我一次  2018-08-04   1   \n",
       "2         手机用户10417237  2018-08-02   1   \n",
       "3               a13632  2018-08-02   1   \n",
       "4                 长脸绵羊  2018-08-01   1   \n",
       "5                    。  2018-07-31   1   \n",
       "6            對著鏡子練習微笑~  2018-07-31   1   \n",
       "7            MAX(ERYZ)  2018-07-31   1   \n",
       "8                  热柠檬  2018-07-30   1   \n",
       "9                 辛苦辛苦  2018-07-27   1   \n",
       "10                   天  2018-07-23   1   \n",
       "11                しゃせい  2018-07-22   1   \n",
       "12        手机用户15007854  2018-07-21   1   \n",
       "13              无所不日其极  2018-07-13   1   \n",
       "14                 。。。  2018-07-12   1   \n",
       "15        手机用户11220470  2018-07-12   1   \n",
       "16            good boy  2018-07-12   1   \n",
       "17                 从没.  2018-07-10   1   \n",
       "18                NaNa  2018-07-10   1   \n",
       "19                 皮皮虾  2018-07-10   1   \n",
       "20                  呵呵  2018-07-10   1   \n",
       "21                  陈雨  2018-07-09   1   \n",
       "22            Hawkwood  2018-07-09   1   \n",
       "23             uk2lili  2018-07-08   1   \n",
       "24             T irrom  2018-07-06   1   \n",
       "25             拈歌画眸唱长卿  2018-07-06   1   \n",
       "26                水族。冰  2018-07-05   1   \n",
       "27              微笑掩飾悲伤  2018-07-05   1   \n",
       "28                恋糖ゐ猫  2018-07-04   1   \n",
       "29                二小罗子  2018-07-04   1   \n",
       "...                ...         ...  ..   \n",
       "16776              守护、  2018-02-11   5   \n",
       "16777        BABA YAGA  2018-02-11   5   \n",
       "16778             豆芽阿姨  2018-02-11   5   \n",
       "16779               木子  2018-02-11   5   \n",
       "16780             少年与狗  2018-02-11   5   \n",
       "16781          徐东琪（手机）  2018-02-11   5   \n",
       "16782          Polaris  2018-02-11   5   \n",
       "16783           ✿͜熊二✿͜  2018-02-11   5   \n",
       "16784              蔣卓睿  2018-02-11   5   \n",
       "16785      ╲ゝ血域乄神罚灵界龙曦  2018-02-11   5   \n",
       "16786              雪贼花  2018-02-11   5   \n",
       "16787           永恒♛-浅夏  2018-02-11   5   \n",
       "16788     QQ用户19887768  2018-02-11   5   \n",
       "16789     手机用户20367699  2018-02-11   5   \n",
       "16790          我们一起猜猜猜  2018-02-11   5   \n",
       "16791  15368668@Social  2018-02-11   5   \n",
       "16792     手机用户18895398  2018-02-11   5   \n",
       "16793            混世大魔王  2018-02-11   5   \n",
       "16794             okok  2018-02-11   5   \n",
       "16795             嘿恩它一  2018-02-11   5   \n",
       "16796     QQ用户12539973  2018-02-11   5   \n",
       "16797     手机用户18168265  2018-02-11   5   \n",
       "16798               寒羽  2018-02-11   5   \n",
       "16799              源酱啦  2018-02-11   5   \n",
       "16800            统一李师傅  2018-02-11   5   \n",
       "16801          哪有这么多热情  2018-02-11   5   \n",
       "16802      手机用户8383341  2018-02-11   5   \n",
       "16803   6199923@Social  2018-02-11   5   \n",
       "16804           ikvkcm  2018-02-11   5   \n",
       "16805             薛之坤i  2018-02-11   5   \n",
       "\n",
       "                                                    评论内容  \\\n",
       "0                                     我已经不想说什么了，死都不发信息给我   \n",
       "1                                     ***游戏抄袭还抄的这么烂也是无语了   \n",
       "2         有一个bug，当爆牌选卡时往从右往左滑动时总会回到第一张卡的位置，根本拖不到后面，太烦人了。   \n",
       "3                                  boss好难打啊，这游戏真的对新人很不友好   \n",
       "4                          本想给五星的看了下一星评论才明白我有多蠢╰(*´︶`*)╯   \n",
       "5                 这他妈是人玩的游戏啊   打神秘人是打这打着就没回合就出不了牌了***个锤子   \n",
       "6      游戏是个好游戏。。但为什么ios用户要体验完整的内容需要付12元？安卓用户只要付6元呢？我希...   \n",
       "7                       为什么不能登微信，网好好的呀，关键是我还买了魔术师呢，还我6块钱   \n",
       "8      一开始以为遇到个不错的游戏，结果玩着玩着就感觉不对了。别的不说，游侠那几张“背刺”，“追击”...   \n",
       "9                                        血很少就谁也打不过只能重新开始   \n",
       "10     这游戏有bug最终boos只剩28滴血我毒也能 毒死。狼人那个技能直接让他回了60滴血。我当...   \n",
       "11      这游戏判定恶不恶心？最后boss狼人我一共打上了21层毒狼人被我打残剩4滴血然后愉悦的事情发生了   \n",
       "12                         太难了  不适合我   一个噩梦狼人打了两个点谁也没放倒谁   \n",
       "13         是真的厚颜无耻狼人哪里恢复以损失百分之20的生命值很强就是说你要一回合打出100的伤害才行   \n",
       "14     为什么现在这么多的手游，都要学着去抄袭Dota2呢？这游戏里面几个图标，人物名字，甚至是配音...   \n",
       "15     为什么一个国内抄袭游戏，能够得奖还一堆人赞？虽然好玩，但是是使用别人的劳动成果啊！支持这种作...   \n",
       "16                                 这个能那么容易通关！！！容易难度感觉都很难   \n",
       "17                                       敌人技能太变态 改改吧 卸载了   \n",
       "18                                   我的存档自动消失了😭😭😭😭😭😭什么鬼😭   \n",
       "19                              你就告诉我大灰狼那关咋过我真是受不了太踏马恶心了   \n",
       "20                                    为什么我用QQ买过，登录QQ后却没有   \n",
       "21     不废话了，换皮抄袭，0分，我会永远抵制。…………事情终于暂作解决的分割线，赶快更新对游戏本身...   \n",
       "22     你们说的新手友好度我怎么没遇到？？？一共玩了4把，两次狼人两次女巫，手里没金币的时候连着出商...   \n",
       "23     不知道再改啥，法师到现在还是完全看脸。我经常第二关中旬才拿到第一张伤害卡，前面全是什么过牌法...   \n",
       "24                                   不好玩，拿不好牌就得重新开始，不推荐玩   \n",
       "25                  玩了几天，什么破系统，要打过去时，难度就加大，最后一关，怎么打都打不过去   \n",
       "26                             白花我六块钱买魔术师，都吞下去没了，一更新就白买了   \n",
       "27                         真TM坑，多放这么多攻击，我的牌还没有治疗，咋打也过不去了   \n",
       "28     这个游戏后面的BOSS根本打不过去有复活甲也没有用，太闹心了，这个游戏有bug有一次可以打死...   \n",
       "29             回血很绝望四十滴血打几百的章鱼你是叫我去死吗？？？绝望心态崩了再玩这个游戏我是傻子   \n",
       "...                                                  ...   \n",
       "16776                       就有一点，在河里捡个空投后，就开始掉血，就淹死了，什么鬼   \n",
       "16777  where i can redeem the code in game for limite...   \n",
       "16778  给五星是真的喜欢这款游戏，可能你们还在测试当中，但是希望尽快优化，游戏中总是让我重新登陆，还...   \n",
       "16779              首先游戏是真的好，然后我想问，这个游戏可以Android和ios一起玩吗？   \n",
       "16780                                良心推荐，全军出击真的比刺激战场好玩！   \n",
       "16781  特别真实尤其是枪的机瞄太真实了！而且头盔平底锅和枪械特别有金属感，包括倍镜做的和电脑版一毛一...   \n",
       "16782                      蛮好的打了三把吃鸡两把，就是不懂为什么空投箱老是降落在毒区   \n",
       "16783                             这手游绝地求生模仿端游非常像希望大家一起下载   \n",
       "16784  👉最好吃鸡手游！全军出击画质，地图，细节真的没话说，腾讯出品，又是蓝洞授权的正版，说实话无论...   \n",
       "16785                         相比于天美自己的荒岛特训和wy的换装大秀算是不错的了   \n",
       "16786  说实话，这是我第一次给国产的（特别是腾讯）游戏打五星好评，当然，打五星并不是说它做得很好，只...   \n",
       "16787                     虽然没有刺激好玩  但是流畅好 不卡 刺激有点卡不是手机问题   \n",
       "16788                                   好游戏，最好再优化一下植被和建筑   \n",
       "16789                                 这么快就有摩托车了，天美的效率牛逼。   \n",
       "16790                      你怕是该出聊天系统了，等好友一起玩，消息都不能发一个。。。   \n",
       "16791                           刺激战场的房子全是空荡的毛坯房，还是喜欢全军出击   \n",
       "16792                                   这是市面上画面最好的吃鸡游戏了吧   \n",
       "16793  比对面光子好多了   尤其是机型   这里畅玩5A可以玩  对面光子玩会就给你来个机型不配 ...   \n",
       "16794                                那些没见过世面的土鳖，这才是高画质吃鸡   \n",
       "16795                有次跳房子。。卡窗户了。。被个枪法好准的人打了八分钟都没打死。我想死。   \n",
       "16796  我建议把模拟器和模拟器玩，但组队的时候可以把模拟器和手机邀请在一起，跟别的模拟器打。还有，我...   \n",
       "16797  比荒野好很多   最近玩了这腾讯两款手游   感觉为什么我的Mate9玩全军更流畅？刺激战场...   \n",
       "16798                              请问刚下飞机在天空中就掉半管血是怎么回事…   \n",
       "16799                   天美爸爸能不能给魅族手机优化优化，我开最低画质都卡，期待优化魅族   \n",
       "16800  我只是个普通玩家各种手机吃鸡我也都玩过，也纠结过刺激和全军，两款我也都玩了都不错但是我选择了...   \n",
       "16801  光子工作室做游戏是为了让大众开心天美工作室做游戏是为了赚钱不信的话你去玩玩刺激战场全军就是优...   \n",
       "16802  真心很不错，你们说用脚做游戏我是真的不理解天美画质不仅好就连我这机型都能流畅玩可见优化也是做...   \n",
       "16803  我终于知道为什么我朋友都玩刺激战场了因为他们没有枪法基本是手残党而刺激战场带辅助瞄准，对没有...   \n",
       "16804  还好吧，有时候我的会有一点点卡，而且不容易看见人，。不过和小伙伴们一起玩还是非常不错的。小地...   \n",
       "16805  怎么说呢 两款游戏我都玩 出击的论坛就说一下出击的问题吧 第一 有bug 我跳到宿舍 卡在楼...   \n",
       "\n",
       "                        使用机型  支持人数  反对人数  \n",
       "0                  Vivo Y51A     0     0  \n",
       "1                      华为荣耀9     0     1  \n",
       "2               Vivo Xplay3S     0     0  \n",
       "3                        未公开     0     1  \n",
       "4                        未公开     0     5  \n",
       "5                   华为荣耀8青春版     0     3  \n",
       "6                   iPhone 7     0     3  \n",
       "7      华为MediaPad T2 8.0 Pro     0     1  \n",
       "8                        小米6     4     7  \n",
       "9                   OPPO A59     0     3  \n",
       "10                       未公开     0     6  \n",
       "11                       未公开     0     4  \n",
       "12                     小米手机4     0     5  \n",
       "13                       小米6     0     7  \n",
       "14                     华为荣耀8     2     6  \n",
       "15                       小米6     5     6  \n",
       "16                       小米6     0     4  \n",
       "17             OPPO R11sPlus     0     8  \n",
       "18                      华为P9     1     1  \n",
       "19                     华为畅享7     0     4  \n",
       "20                 OPPO R9sk     0     1  \n",
       "21                     华为P10   196    50  \n",
       "22                       小米8     0     8  \n",
       "23                   小米MIX 2     0     3  \n",
       "24                  Vivo Y35     0     8  \n",
       "25                 Vivo Y67L     0     7  \n",
       "26                    酷派C106     1     5  \n",
       "27                  OPPO A59     0     4  \n",
       "28              三星Galaxy S8+     0     8  \n",
       "29                  Vivo Y67     0     8  \n",
       "...                      ...   ...   ...  \n",
       "16776               OPPO A57     0     0  \n",
       "16777         三星Galaxy Note4     0     0  \n",
       "16778               红米Note 3     0     1  \n",
       "16779                  魅族MX3     0     0  \n",
       "16780               OPPO R11     1     0  \n",
       "16781               iPad Air     0     0  \n",
       "16782                  一加手机5     0     0  \n",
       "16783                    未公开     1     0  \n",
       "16784           华为Mate 9 Pro     0     0  \n",
       "16785                   红米4X     1     0  \n",
       "16786               华为荣耀畅玩7X     2     0  \n",
       "16787           华为荣耀畅享7 Plus     1     0  \n",
       "16788                华为G9青春版     0     0  \n",
       "16789              红米Note 4X     0     0  \n",
       "16790               华为Mate 9     1     0  \n",
       "16791                    未公开     0     0  \n",
       "16792              华为nova青春版     0     0  \n",
       "16793               华为荣耀畅玩5A     1     0  \n",
       "16794              OPPO A59s     0     0  \n",
       "16795               Vivo Y67     0     0  \n",
       "16796             华为P10 Plus     1     0  \n",
       "16797               华为Mate 9     1     0  \n",
       "16798            Vivo Xplay5     0     0  \n",
       "16799                   魅族M6     1     0  \n",
       "16800       三星Galaxy S7 Edge     1     3  \n",
       "16801               华为荣耀8青春版     3     0  \n",
       "16802             Vivo V3Max     2     2  \n",
       "16803               华为荣耀畅玩5A     0     1  \n",
       "16804              红米Note 4X     0     0  \n",
       "16805               红米5 Plus     0     0  \n",
       "\n",
       "[23092 rows x 7 columns]"
      ]
     },
     "execution_count": 22,
     "metadata": {},
     "output_type": "execute_result"
    }
   ],
   "source": [
    "newCsv"
   ]
  },
  {
   "cell_type": "markdown",
   "metadata": {
    "collapsed": true
   },
   "source": [
    "## Game stats"
   ]
  },
  {
   "cell_type": "code",
   "execution_count": 83,
   "metadata": {
    "ExecuteTime": {
     "end_time": "2018-08-06T04:18:51.130967Z",
     "start_time": "2018-08-06T04:18:51.128687Z"
    },
    "collapsed": true
   },
   "outputs": [],
   "source": [
    "gameName = [file.split('.')[0] for file in fileList]"
   ]
  },
  {
   "cell_type": "code",
   "execution_count": 84,
   "metadata": {
    "ExecuteTime": {
     "end_time": "2018-08-06T04:18:53.330735Z",
     "start_time": "2018-08-06T04:18:53.328105Z"
    }
   },
   "outputs": [
    {
     "data": {
      "text/plain": [
       "['月圆之夜',\n",
       " '阴阳师',\n",
       " '绝地求生 全军出击',\n",
       " '王者荣耀',\n",
       " '穿越火线-枪战王者',\n",
       " 'ICEY',\n",
       " '元气骑士',\n",
       " '碧蓝航线',\n",
       " '香肠派对',\n",
       " '非人学园',\n",
       " '楚留香',\n",
       " '命运-冠位指定（Fate-Grand Order）CN',\n",
       " '炉石传说',\n",
       " '我的世界',\n",
       " '崩坏3',\n",
       " '少女前线CN',\n",
       " '比特小队',\n",
       " '决战！平安京',\n",
       " '心灵战争',\n",
       " 'QQ飞车',\n",
       " 'Muse Dash',\n",
       " '绝地求生：刺激战场',\n",
       " '黑暗料理王',\n",
       " '第五人格CN']"
      ]
     },
     "execution_count": 84,
     "metadata": {},
     "output_type": "execute_result"
    }
   ],
   "source": [
    "gameName"
   ]
  },
  {
   "cell_type": "code",
   "execution_count": 85,
   "metadata": {
    "ExecuteTime": {
     "end_time": "2018-08-06T04:21:21.340605Z",
     "start_time": "2018-08-06T04:21:20.245437Z"
    },
    "collapsed": true
   },
   "outputs": [],
   "source": [
    "commentStat = {k: 0 for k in gameName}\n",
    "for file, game in zip(fileList, gameName):\n",
    "    file = data_path/file\n",
    "    newCsv = pd.read_csv(file, engine='python', encoding='utf-8')\n",
    "    commentNB = len(newCsv)\n",
    "    commentStat[game] += commentNB\n",
    "commentStat = pd.Series(commentStat)"
   ]
  },
  {
   "cell_type": "code",
   "execution_count": 92,
   "metadata": {
    "ExecuteTime": {
     "end_time": "2018-08-06T04:23:17.819599Z",
     "start_time": "2018-08-06T04:23:17.445014Z"
    }
   },
   "outputs": [
    {
     "data": {
      "text/plain": [
       "<matplotlib.axes._subplots.AxesSubplot at 0x7fa5a05c1d68>"
      ]
     },
     "execution_count": 92,
     "metadata": {},
     "output_type": "execute_result"
    },
    {
     "data": {
      "image/png": "[encoded data removed]",
      "text/plain": [
       "<Figure size 1440x864 with 1 Axes>"
      ]
     },
     "metadata": {},
     "output_type": "display_data"
    }
   ],
   "source": [
    "commentStat.sort_values(ascending=False).plot.bar(fontsize=20, figsize=(20, 12))"
   ]
  },
  {
   "cell_type": "code",
   "execution_count": 99,
   "metadata": {
    "ExecuteTime": {
     "end_time": "2018-08-06T04:25:22.962268Z",
     "start_time": "2018-08-06T04:25:22.959919Z"
    }
   },
   "outputs": [],
   "source": [
    "top5 = commentStat.sort_values(ascending=False)[:5].keys().values"
   ]
  },
  {
   "cell_type": "code",
   "execution_count": 126,
   "metadata": {
    "ExecuteTime": {
     "end_time": "2018-08-06T06:43:23.839722Z",
     "start_time": "2018-08-06T06:43:22.908562Z"
    }
   },
   "outputs": [
    {
     "data": {
      "image/png": "[encoded data removed]",
      "text/plain": [
       "<Figure size 576x1440 with 5 Axes>"
      ]
     },
     "metadata": {},
     "output_type": "display_data"
    }
   ],
   "source": [
    "for i, game in enumerate(top5):\n",
    "    gamefile = game+'.csv'\n",
    "    file = data_path/gamefile\n",
    "    newCsv = pd.read_csv(file, engine='python', encoding='utf-8')\n",
    "    plt.subplot(5, 1, i+1)\n",
    "    plt.title(game)\n",
    "    newCsv['打分'].value_counts().sort_index(ascending=False).plot.bar(figsize=(8, 20))"
   ]
  }
 ],
 "metadata": {
  "kernelspec": {
   "display_name": "Python 3",
   "language": "python",
   "name": "python3"
  },
  "language_info": {
   "codemirror_mode": {
    "name": "ipython",
    "version": 3
   },
   "file_extension": ".py",
   "mimetype": "text/x-python",
   "name": "python",
   "nbconvert_exporter": "python",
   "pygments_lexer": "ipython3",
   "version": "3.6.2"
  },
  "toc": {
   "nav_menu": {},
   "number_sections": true,
   "sideBar": true,
   "skip_h1_title": false,
   "toc_cell": false,
   "toc_position": {},
   "toc_section_display": "block",
   "toc_window_display": false
  },
  "varInspector": {
   "cols": {
    "lenName": 16,
    "lenType": 16,
    "lenVar": 40
   },
   "kernels_config": {
    "python": {
     "delete_cmd_postfix": "",
     "delete_cmd_prefix": "del ",
     "library": "var_list.py",
     "varRefreshCmd": "print(var_dic_list())"
    },
    "r": {
     "delete_cmd_postfix": ") ",
     "delete_cmd_prefix": "rm(",
     "library": "var_list.r",
     "varRefreshCmd": "cat(var_dic_list()) "
    }
   },
   "types_to_exclude": [
    "module",
    "function",
    "builtin_function_or_method",
    "instance",
    "_Feature"
   ],
   "window_display": true
  }
 },
 "nbformat": 4,
 "nbformat_minor": 2
}
