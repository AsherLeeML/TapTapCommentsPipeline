{
 "cells": [
  {
   "cell_type": "code",
   "execution_count": 1,
   "metadata": {
    "ExecuteTime": {
     "end_time": "2018-08-06T07:04:20.286152Z",
     "start_time": "2018-08-06T07:04:20.100493Z"
    },
    "collapsed": true
   },
   "outputs": [],
   "source": [
    "import pandas as pd\n",
    "import os"
   ]
  },
  {
   "cell_type": "code",
   "execution_count": 12,
   "metadata": {
    "ExecuteTime": {
     "end_time": "2018-08-06T07:06:31.941448Z",
     "start_time": "2018-08-06T07:06:31.939693Z"
    },
    "collapsed": true
   },
   "outputs": [],
   "source": [
    "from pathlib import Path\n",
    "import math"
   ]
  },
  {
   "cell_type": "code",
   "execution_count": 3,
   "metadata": {
    "ExecuteTime": {
     "end_time": "2018-08-06T07:04:22.521117Z",
     "start_time": "2018-08-06T07:04:21.557016Z"
    },
    "collapsed": true
   },
   "outputs": [],
   "source": [
    "bigCorpus = pd.read_csv('BigCorpus.csv', engine='python', encoding='utf-8')\n",
    "commentsAndLabels = bigCorpus[['打分', '评论内容']]"
   ]
  },
  {
   "cell_type": "code",
   "execution_count": 9,
   "metadata": {
    "ExecuteTime": {
     "end_time": "2018-08-06T07:05:41.091597Z",
     "start_time": "2018-08-06T07:05:41.085421Z"
    },
    "collapsed": true
   },
   "outputs": [],
   "source": [
    "%matplotlib inline"
   ]
  },
  {
   "cell_type": "code",
   "execution_count": 4,
   "metadata": {
    "ExecuteTime": {
     "end_time": "2018-08-06T07:04:22.557081Z",
     "start_time": "2018-08-06T07:04:22.548333Z"
    }
   },
   "outputs": [
    {
     "data": {
      "text/html": [
       "<div>\n",
       "<style scoped>\n",
       "    .dataframe tbody tr th:only-of-type {\n",
       "        vertical-align: middle;\n",
       "    }\n",
       "\n",
       "    .dataframe tbody tr th {\n",
       "        vertical-align: top;\n",
       "    }\n",
       "\n",
       "    .dataframe thead th {\n",
       "        text-align: right;\n",
       "    }\n",
       "</style>\n",
       "<table border=\"1\" class=\"dataframe\">\n",
       "  <thead>\n",
       "    <tr style=\"text-align: right;\">\n",
       "      <th></th>\n",
       "      <th>打分</th>\n",
       "      <th>评论内容</th>\n",
       "    </tr>\n",
       "  </thead>\n",
       "  <tbody>\n",
       "    <tr>\n",
       "      <th>0</th>\n",
       "      <td>1</td>\n",
       "      <td>我已经不想说什么了，死都不发信息给我</td>\n",
       "    </tr>\n",
       "    <tr>\n",
       "      <th>1</th>\n",
       "      <td>1</td>\n",
       "      <td>***游戏抄袭还抄的这么烂也是无语了</td>\n",
       "    </tr>\n",
       "    <tr>\n",
       "      <th>2</th>\n",
       "      <td>1</td>\n",
       "      <td>有一个bug，当爆牌选卡时往从右往左滑动时总会回到第一张卡的位置，根本拖不到后面，太烦人了。</td>\n",
       "    </tr>\n",
       "    <tr>\n",
       "      <th>3</th>\n",
       "      <td>1</td>\n",
       "      <td>boss好难打啊，这游戏真的对新人很不友好</td>\n",
       "    </tr>\n",
       "    <tr>\n",
       "      <th>4</th>\n",
       "      <td>1</td>\n",
       "      <td>本想给五星的看了下一星评论才明白我有多蠢╰(*´︶`*)╯</td>\n",
       "    </tr>\n",
       "  </tbody>\n",
       "</table>\n",
       "</div>"
      ],
      "text/plain": [
       "   打分                                            评论内容\n",
       "0   1                              我已经不想说什么了，死都不发信息给我\n",
       "1   1                              ***游戏抄袭还抄的这么烂也是无语了\n",
       "2   1  有一个bug，当爆牌选卡时往从右往左滑动时总会回到第一张卡的位置，根本拖不到后面，太烦人了。\n",
       "3   1                           boss好难打啊，这游戏真的对新人很不友好\n",
       "4   1                   本想给五星的看了下一星评论才明白我有多蠢╰(*´︶`*)╯"
      ]
     },
     "execution_count": 4,
     "metadata": {},
     "output_type": "execute_result"
    }
   ],
   "source": [
    "commentsAndLabels.head()"
   ]
  },
  {
   "cell_type": "code",
   "execution_count": 37,
   "metadata": {
    "ExecuteTime": {
     "end_time": "2018-08-06T07:12:48.848919Z",
     "start_time": "2018-08-06T07:12:48.751036Z"
    }
   },
   "outputs": [
    {
     "name": "stderr",
     "output_type": "stream",
     "text": [
      "/home/deep/pythonenv/anaconda3/lib/python3.6/site-packages/ipykernel_launcher.py:1: SettingWithCopyWarning: \n",
      "A value is trying to be set on a copy of a slice from a DataFrame.\n",
      "Try using .loc[row_indexer,col_indexer] = value instead\n",
      "\n",
      "See the caveats in the documentation: http://pandas.pydata.org/pandas-docs/stable/indexing.html#indexing-view-versus-copy\n",
      "  \"\"\"Entry point for launching an IPython kernel.\n"
     ]
    }
   ],
   "source": [
    "commentsAndLabels['StrLength'] = commentsAndLabels['评论内容'].str.len()"
   ]
  },
  {
   "cell_type": "code",
   "execution_count": 40,
   "metadata": {
    "ExecuteTime": {
     "end_time": "2018-08-06T07:13:17.142339Z",
     "start_time": "2018-08-06T07:13:17.136750Z"
    }
   },
   "outputs": [
    {
     "data": {
      "text/html": [
       "<div>\n",
       "<style scoped>\n",
       "    .dataframe tbody tr th:only-of-type {\n",
       "        vertical-align: middle;\n",
       "    }\n",
       "\n",
       "    .dataframe tbody tr th {\n",
       "        vertical-align: top;\n",
       "    }\n",
       "\n",
       "    .dataframe thead th {\n",
       "        text-align: right;\n",
       "    }\n",
       "</style>\n",
       "<table border=\"1\" class=\"dataframe\">\n",
       "  <thead>\n",
       "    <tr style=\"text-align: right;\">\n",
       "      <th></th>\n",
       "      <th>打分</th>\n",
       "      <th>评论内容</th>\n",
       "      <th>StrLength</th>\n",
       "    </tr>\n",
       "  </thead>\n",
       "  <tbody>\n",
       "    <tr>\n",
       "      <th>0</th>\n",
       "      <td>1</td>\n",
       "      <td>我已经不想说什么了，死都不发信息给我</td>\n",
       "      <td>18</td>\n",
       "    </tr>\n",
       "    <tr>\n",
       "      <th>1</th>\n",
       "      <td>1</td>\n",
       "      <td>***游戏抄袭还抄的这么烂也是无语了</td>\n",
       "      <td>18</td>\n",
       "    </tr>\n",
       "    <tr>\n",
       "      <th>2</th>\n",
       "      <td>1</td>\n",
       "      <td>有一个bug，当爆牌选卡时往从右往左滑动时总会回到第一张卡的位置，根本拖不到后面，太烦人了。</td>\n",
       "      <td>46</td>\n",
       "    </tr>\n",
       "    <tr>\n",
       "      <th>3</th>\n",
       "      <td>1</td>\n",
       "      <td>boss好难打啊，这游戏真的对新人很不友好</td>\n",
       "      <td>21</td>\n",
       "    </tr>\n",
       "    <tr>\n",
       "      <th>4</th>\n",
       "      <td>1</td>\n",
       "      <td>本想给五星的看了下一星评论才明白我有多蠢╰(*´︶`*)╯</td>\n",
       "      <td>29</td>\n",
       "    </tr>\n",
       "  </tbody>\n",
       "</table>\n",
       "</div>"
      ],
      "text/plain": [
       "   打分                                            评论内容  StrLength\n",
       "0   1                              我已经不想说什么了，死都不发信息给我         18\n",
       "1   1                              ***游戏抄袭还抄的这么烂也是无语了         18\n",
       "2   1  有一个bug，当爆牌选卡时往从右往左滑动时总会回到第一张卡的位置，根本拖不到后面，太烦人了。         46\n",
       "3   1                           boss好难打啊，这游戏真的对新人很不友好         21\n",
       "4   1                   本想给五星的看了下一星评论才明白我有多蠢╰(*´︶`*)╯         29"
      ]
     },
     "execution_count": 40,
     "metadata": {},
     "output_type": "execute_result"
    }
   ],
   "source": [
    "commentsAndLabels.head()"
   ]
  },
  {
   "cell_type": "code",
   "execution_count": 47,
   "metadata": {
    "ExecuteTime": {
     "end_time": "2018-08-06T07:18:00.525281Z",
     "start_time": "2018-08-06T07:18:00.463338Z"
    }
   },
   "outputs": [
    {
     "name": "stderr",
     "output_type": "stream",
     "text": [
      "/home/deep/pythonenv/anaconda3/lib/python3.6/site-packages/ipykernel_launcher.py:1: SettingWithCopyWarning: \n",
      "A value is trying to be set on a copy of a slice from a DataFrame\n",
      "\n",
      "See the caveats in the documentation: http://pandas.pydata.org/pandas-docs/stable/indexing.html#indexing-view-versus-copy\n",
      "  \"\"\"Entry point for launching an IPython kernel.\n"
     ]
    }
   ],
   "source": [
    "commentsAndLabels.sort_values(by=['StrLength'], inplace=True)"
   ]
  },
  {
   "cell_type": "code",
   "execution_count": 87,
   "metadata": {
    "ExecuteTime": {
     "end_time": "2018-08-06T07:31:57.065702Z",
     "start_time": "2018-08-06T07:31:56.486188Z"
    }
   },
   "outputs": [],
   "source": [
    "import seaborn as sns"
   ]
  },
  {
   "cell_type": "code",
   "execution_count": 89,
   "metadata": {
    "ExecuteTime": {
     "end_time": "2018-08-06T07:32:51.007434Z",
     "start_time": "2018-08-06T07:32:51.003872Z"
    },
    "collapsed": true
   },
   "outputs": [],
   "source": [
    "commentstats = commentsAndLabels['StrLength'].value_counts()"
   ]
  },
  {
   "cell_type": "code",
   "execution_count": 104,
   "metadata": {
    "ExecuteTime": {
     "end_time": "2018-08-06T07:41:13.237495Z",
     "start_time": "2018-08-06T07:41:13.233269Z"
    }
   },
   "outputs": [
    {
     "data": {
      "text/plain": [
       "15     5612\n",
       "16     5187\n",
       "17     4962\n",
       "18     4803\n",
       "19     4524\n",
       "20     4297\n",
       "21     3890\n",
       "22     3769\n",
       "23     3597\n",
       "24     3380\n",
       "25     3186\n",
       "26     2997\n",
       "27     2865\n",
       "28     2855\n",
       "30     2670\n",
       "29     2652\n",
       "31     2470\n",
       "32     2438\n",
       "33     2281\n",
       "34     2256\n",
       "35     2195\n",
       "37     2072\n",
       "36     2020\n",
       "38     1919\n",
       "39     1835\n",
       "40     1781\n",
       "41     1712\n",
       "44     1658\n",
       "42     1633\n",
       "43     1626\n",
       "       ... \n",
       "130     319\n",
       "125     312\n",
       "129     310\n",
       "127     298\n",
       "128     297\n",
       "123     291\n",
       "131     290\n",
       "137     285\n",
       "134     284\n",
       "126     283\n",
       "136     283\n",
       "139     271\n",
       "135     270\n",
       "138     270\n",
       "133     266\n",
       "142     266\n",
       "141     260\n",
       "144     253\n",
       "143     253\n",
       "140     241\n",
       "153     239\n",
       "145     239\n",
       "148     238\n",
       "146     232\n",
       "152     231\n",
       "150     227\n",
       "157     227\n",
       "147     227\n",
       "159     226\n",
       "149     225\n",
       "Name: StrLength, Length: 140, dtype: int64"
      ]
     },
     "execution_count": 104,
     "metadata": {},
     "output_type": "execute_result"
    }
   ],
   "source": [
    "sample = commentstats[:140]\n",
    "sample"
   ]
  },
  {
   "cell_type": "code",
   "execution_count": 109,
   "metadata": {
    "ExecuteTime": {
     "end_time": "2018-08-06T07:43:18.248720Z",
     "start_time": "2018-08-06T07:43:17.275112Z"
    }
   },
   "outputs": [
    {
     "data": {
      "text/plain": [
       "<matplotlib.axes._subplots.AxesSubplot at 0x7f9fea373b70>"
      ]
     },
     "execution_count": 109,
     "metadata": {},
     "output_type": "execute_result"
    },
    {
     "data": {
      "image/png": "[encoded data removed]",
      "text/plain": [
       "<Figure size 1440x864 with 1 Axes>"
      ]
     },
     "metadata": {},
     "output_type": "display_data"
    }
   ],
   "source": [
    "import matplotlib.pyplot as plt\n",
    "plt.figure(figsize=(20, 12))\n",
    "sns.set(font_scale=2)\n",
    "sns.barplot(sample.index, sample.values)"
   ]
  },
  {
   "cell_type": "code",
   "execution_count": 76,
   "metadata": {
    "ExecuteTime": {
     "end_time": "2018-08-06T07:27:44.711464Z",
     "start_time": "2018-08-06T07:27:44.629999Z"
    }
   },
   "outputs": [
    {
     "data": {
      "text/plain": [
       "<matplotlib.axes._subplots.AxesSubplot at 0x7fa00544feb8>"
      ]
     },
     "execution_count": 76,
     "metadata": {},
     "output_type": "execute_result"
    },
    {
     "data": {
      "image/png": "[encoded data removed]",
      "text/plain": [
       "<Figure size 432x288 with 1 Axes>"
      ]
     },
     "metadata": {},
     "output_type": "display_data"
    }
   ],
   "source": [
    "commentsAndLabels['StrLength'].value_counts().iloc[:100].hist()"
   ]
  },
  {
   "cell_type": "code",
   "execution_count": 113,
   "metadata": {
    "ExecuteTime": {
     "end_time": "2018-08-06T08:16:04.858609Z",
     "start_time": "2018-08-06T08:16:04.531593Z"
    }
   },
   "outputs": [
    {
     "data": {
      "text/plain": [
       "50829"
      ]
     },
     "execution_count": 113,
     "metadata": {},
     "output_type": "execute_result"
    }
   ],
   "source": [
    "outcsv = pd.DataFrame()\n",
    "outcsv['label'] = commentsAndLabels['打分']\n",
    "outcsv['']"
   ]
  }
 ],
 "metadata": {
  "kernelspec": {
   "display_name": "Python 3",
   "language": "python",
   "name": "python3"
  },
  "language_info": {
   "codemirror_mode": {
    "name": "ipython",
    "version": 3
   },
   "file_extension": ".py",
   "mimetype": "text/x-python",
   "name": "python",
   "nbconvert_exporter": "python",
   "pygments_lexer": "ipython3",
   "version": "3.6.2"
  },
  "toc": {
   "nav_menu": {},
   "number_sections": true,
   "sideBar": true,
   "skip_h1_title": false,
   "toc_cell": false,
   "toc_position": {},
   "toc_section_display": "block",
   "toc_window_display": false
  },
  "varInspector": {
   "cols": {
    "lenName": 16,
    "lenType": 16,
    "lenVar": 40
   },
   "kernels_config": {
    "python": {
     "delete_cmd_postfix": "",
     "delete_cmd_prefix": "del ",
     "library": "var_list.py",
     "varRefreshCmd": "print(var_dic_list())"
    },
    "r": {
     "delete_cmd_postfix": ") ",
     "delete_cmd_prefix": "rm(",
     "library": "var_list.r",
     "varRefreshCmd": "cat(var_dic_list()) "
    }
   },
   "types_to_exclude": [
    "module",
    "function",
    "builtin_function_or_method",
    "instance",
    "_Feature"
   ],
   "window_display": true
  }
 },
 "nbformat": 4,
 "nbformat_minor": 2
}
