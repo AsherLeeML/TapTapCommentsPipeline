{
 "cells": [
  {
   "cell_type": "code",
   "execution_count": 1,
   "metadata": {
    "ExecuteTime": {
     "end_time": "2018-08-10T03:41:27.772807Z",
     "start_time": "2018-08-10T03:41:27.304145Z"
    },
    "collapsed": true
   },
   "outputs": [],
   "source": [
    "from yelp import *"
   ]
  },
  {
   "cell_type": "code",
   "execution_count": 2,
   "metadata": {
    "ExecuteTime": {
     "end_time": "2018-08-10T03:41:27.880833Z",
     "start_time": "2018-08-10T03:41:27.871162Z"
    },
    "collapsed": true
   },
   "outputs": [],
   "source": [
    "%reload_ext autoreload\n",
    "%autoreload 2"
   ]
  },
  {
   "cell_type": "code",
   "execution_count": 3,
   "metadata": {
    "ExecuteTime": {
     "end_time": "2018-08-10T03:41:53.041364Z",
     "start_time": "2018-08-10T03:41:28.599259Z"
    }
   },
   "outputs": [
    {
     "name": "stderr",
     "output_type": "stream",
     "text": [
      "  0%|          | 34/10000 [00:00<00:29, 335.09it/s]"
     ]
    },
    {
     "name": "stdout",
     "output_type": "stream",
     "text": [
      "loading Yelp reviews...\n"
     ]
    },
    {
     "name": "stderr",
     "output_type": "stream",
     "text": [
      "100%|██████████| 10000/10000 [00:24<00:00, 410.62it/s]\n"
     ]
    },
    {
     "name": "stdout",
     "output_type": "stream",
     "text": [
      "finished loading Yelp reviews\n"
     ]
    }
   ],
   "source": [
    "(train_x, train_y), (test_x, test_y) = load_data(path='yelp.csv', size=1e4, train_ratio=0.9)"
   ]
  },
  {
   "cell_type": "code",
   "execution_count": 3,
   "metadata": {
    "ExecuteTime": {
     "end_time": "2018-08-10T03:03:14.261014Z",
     "start_time": "2018-08-10T03:03:14.254511Z"
    }
   },
   "outputs": [
    {
     "data": {
      "text/plain": [
       "array([list(['my wife took me here on my birthday for breakfast and it was excellent', 'weather was perfect which made sitting outside overlooking their grounds absolute pleasure', 'our waitress was excellent and our food arrived quickly on semi busy saturday morning', 'it looked like place fills up pretty quickly so earlier you get here better', 'do yourself favor and get their bloody mary', \"it was phenomenal and simply best i 've ever had\", \"i 'm pretty sure they only use ingredients from their garden and blend them fresh when you order it\", 'it was amazing', 'while everything on menu looks excellent i had white truffle scrambled eggs vegetable skillet and it was tasty and delicious', 'it came with 2 pieces of their griddled bread with was amazing and it absolutely made meal complete', \"it was best toast i 've ever had\", \"anyway i ca n't wait to go back\"]),\n",
       "       list(['i have no idea why some people give bad reviews about this place', 'it goes to show you you can please everyone', 'they are probably griping about something that their own fault ... there are many people like that', 'in any case my friend and i arrived at about 5:50 pm this past sunday', \"it was pretty crowded more than i thought for sunday evening and thought we would have to wait forever to get seat but they said we 'll be seated when girl comes back from seating someone else\", 'we were seated at 5:52 and waiter came and got our drink orders', 'everyone was very pleasant from host that seated us to waiter to server', 'prices were very good as well', 'we placed our orders once we decided what we wanted at 6:02', \"we shared baked spaghetti calzone and small here 's beef pizza so we can both try them\", 'calzone was huge and we got smallest one personal and got small 11 pizza', 'both were awesome', 'my friend liked pizza better and i liked calzone better', \"calzone does have sweetish sauce but that 's how i like my sauce\", 'we had to box part of pizza to take it home and we were out door by 6:42', 'so everything was great and not like these bad reviewers', 'that goes to show you that you have to try these things yourself because all these bad reviewers have some serious issues'])],\n",
       "      dtype=object)"
      ]
     },
     "execution_count": 3,
     "metadata": {},
     "output_type": "execute_result"
    }
   ],
   "source": [
    "train_x[:2]"
   ]
  },
  {
   "cell_type": "code",
   "execution_count": 17,
   "metadata": {
    "ExecuteTime": {
     "end_time": "2018-08-10T02:25:17.133152Z",
     "start_time": "2018-08-10T02:25:17.130499Z"
    }
   },
   "outputs": [
    {
     "data": {
      "text/plain": [
       "array([[0., 0., 0., 0., 1.],\n",
       "       [0., 0., 0., 0., 1.],\n",
       "       [0., 0., 0., 1., 0.],\n",
       "       ...,\n",
       "       [0., 1., 0., 0., 0.],\n",
       "       [0., 0., 0., 1., 0.],\n",
       "       [0., 0., 0., 1., 0.]])"
      ]
     },
     "execution_count": 17,
     "metadata": {},
     "output_type": "execute_result"
    }
   ],
   "source": [
    "train_y"
   ]
  },
  {
   "cell_type": "code",
   "execution_count": 4,
   "metadata": {
    "ExecuteTime": {
     "end_time": "2018-08-10T03:23:15.434643Z",
     "start_time": "2018-08-10T03:23:15.421528Z"
    }
   },
   "outputs": [
    {
     "data": {
      "text/plain": [
       "((9000,), (9000, 5), (1000,), (1000, 5))"
      ]
     },
     "execution_count": 4,
     "metadata": {},
     "output_type": "execute_result"
    }
   ],
   "source": [
    "train_x.shape, train_y.shape, test_x.shape, test_y.shape"
   ]
  },
  {
   "cell_type": "code",
   "execution_count": 4,
   "metadata": {
    "ExecuteTime": {
     "end_time": "2018-08-10T03:41:53.858450Z",
     "start_time": "2018-08-10T03:41:53.136509Z"
    }
   },
   "outputs": [
    {
     "name": "stderr",
     "output_type": "stream",
     "text": [
      "Using TensorFlow backend.\n"
     ]
    }
   ],
   "source": [
    "from hanVis import HNATT"
   ]
  },
  {
   "cell_type": "code",
   "execution_count": 6,
   "metadata": {
    "ExecuteTime": {
     "end_time": "2018-08-10T03:41:54.112493Z",
     "start_time": "2018-08-10T03:41:54.099489Z"
    },
    "collapsed": true
   },
   "outputs": [],
   "source": [
    "h = HNATT()"
   ]
  },
  {
   "cell_type": "code",
   "execution_count": 5,
   "metadata": {
    "ExecuteTime": {
     "end_time": "2018-08-10T03:41:53.989801Z",
     "start_time": "2018-08-10T03:41:53.974831Z"
    },
    "collapsed": true
   },
   "outputs": [],
   "source": [
    "SAVED_MODEL_DIR = './'\n",
    "SAVED_MODEL_FILENAME = 'model.h5'\n",
    "EMBEDDINGS_PATH = '../cache/word_embed.npy'"
   ]
  },
  {
   "cell_type": "code",
   "execution_count": 7,
   "metadata": {
    "ExecuteTime": {
     "end_time": "2018-08-10T03:43:28.846439Z",
     "start_time": "2018-08-10T03:41:54.219178Z"
    }
   },
   "outputs": [
    {
     "name": "stderr",
     "output_type": "stream",
     "text": [
      "4967it [00:00, 49660.22it/s]"
     ]
    },
    {
     "name": "stdout",
     "output_type": "stream",
     "text": [
      "Generating GloVe embedding...\n"
     ]
    },
    {
     "name": "stderr",
     "output_type": "stream",
     "text": [
      "400000it [00:08, 47654.60it/s]\n"
     ]
    },
    {
     "name": "stdout",
     "output_type": "stream",
     "text": [
      "Loaded GloVe embedding\n",
      "(None, 50, 100)\n",
      "_________________________________________________________________\n",
      "Layer (type)                 Output Shape              Param #   \n",
      "=================================================================\n",
      "input_1 (InputLayer)         (None, 50)                0         \n",
      "_________________________________________________________________\n",
      "word_embeddings (Embedding)  (None, 50, 100)           2866600   \n",
      "_________________________________________________________________\n",
      "bidirectional_1 (Bidirection (None, 50, 100)           45300     \n",
      "_________________________________________________________________\n",
      "dense_transform_w (Dense)    (None, 50, 100)           10100     \n",
      "_________________________________________________________________\n",
      "word_attention (Attention)   (None, 100)               100       \n",
      "=================================================================\n",
      "Total params: 2,922,100\n",
      "Trainable params: 2,922,100\n",
      "Non-trainable params: 0\n",
      "_________________________________________________________________\n",
      "(None, 50, 100)\n",
      "(None, 20, 100)\n",
      "_________________________________________________________________\n",
      "Layer (type)                 Output Shape              Param #   \n",
      "=================================================================\n",
      "input_2 (InputLayer)         (None, 20, 50)            0         \n",
      "_________________________________________________________________\n",
      "time_distributed_1 (TimeDist (None, 20, 100)           2922100   \n",
      "_________________________________________________________________\n",
      "bidirectional_2 (Bidirection (None, 20, 100)           45300     \n",
      "_________________________________________________________________\n",
      "dense_transform_s (Dense)    (None, 20, 100)           10100     \n",
      "_________________________________________________________________\n",
      "sentence_attention (Attentio (None, 100)               100       \n",
      "_________________________________________________________________\n",
      "dense_1 (Dense)              (None, 5)                 505       \n",
      "=================================================================\n",
      "Total params: 2,978,105\n",
      "Trainable params: 2,978,105\n",
      "Non-trainable params: 0\n",
      "_________________________________________________________________\n",
      "Train on 8100 samples, validate on 900 samples\n",
      "Epoch 1/8\n",
      "8100/8100 [==============================] - 12s 1ms/step - loss: 1.4674 - acc: 0.3506 - val_loss: 1.3702 - val_acc: 0.3622\n",
      "Epoch 2/8\n",
      "8100/8100 [==============================] - 10s 1ms/step - loss: 1.2513 - acc: 0.4063 - val_loss: 1.1853 - val_acc: 0.4278\n",
      "Epoch 3/8\n",
      "8100/8100 [==============================] - 10s 1ms/step - loss: 1.0895 - acc: 0.4940 - val_loss: 1.1317 - val_acc: 0.5100\n",
      "Epoch 4/8\n",
      "8100/8100 [==============================] - 10s 1ms/step - loss: 0.9599 - acc: 0.5635 - val_loss: 1.1172 - val_acc: 0.4889\n",
      "Epoch 5/8\n",
      "8100/8100 [==============================] - 10s 1ms/step - loss: 0.8301 - acc: 0.6306 - val_loss: 1.1739 - val_acc: 0.5089\n",
      "Epoch 6/8\n",
      "8100/8100 [==============================] - 10s 1ms/step - loss: 0.7132 - acc: 0.6926 - val_loss: 1.2395 - val_acc: 0.4989\n",
      "Epoch 7/8\n",
      "8100/8100 [==============================] - 10s 1ms/step - loss: 0.5459 - acc: 0.7832 - val_loss: 1.5109 - val_acc: 0.5022\n",
      "Epoch 8/8\n",
      "8100/8100 [==============================] - 10s 1ms/step - loss: 0.4125 - acc: 0.8442 - val_loss: 1.6632 - val_acc: 0.4822\n"
     ]
    }
   ],
   "source": [
    "h.train(train_x, train_y, \n",
    "\t\tbatch_size=128,\n",
    "\t\tepochs=8,\n",
    "\t\tembeddings_path=EMBEDDINGS_PATH, \n",
    "\t\tsaved_model_dir=SAVED_MODEL_DIR,\n",
    "\t\tsaved_model_filename=SAVED_MODEL_FILENAME)"
   ]
  },
  {
   "cell_type": "code",
   "execution_count": 8,
   "metadata": {
    "ExecuteTime": {
     "end_time": "2018-08-10T03:43:29.382759Z",
     "start_time": "2018-08-10T03:43:28.957524Z"
    }
   },
   "outputs": [
    {
     "name": "stdout",
     "output_type": "stream",
     "text": [
      "[([('they', 0.0004650058473755922), ('have', 0.000392513528731217), ('some', 0.0008777718530711579), ('pretty', 0.023988307714198794), ('interesting', 0.7987409385768607), ('things', 0.12726049092184882), ('here', 0.04827497155791378)], 0.6098041), ([('i', 5.795021630663068e-05), ('will', 0.005251524844727197), ('definitely', 0.12514690958377253), ('go', 0.06752669207702895), ('back', 0.19042523107087417), ('again', 0.6115916922072905)], 0.39019588)]\n"
     ]
    }
   ],
   "source": [
    "activation_maps = h.activation_maps(\n",
    "\t\t'''今天朋友晒了封邮件，参与预约的24小时内会收到真爱之契，自选一名角色。\n",
    "\n",
    "然后我突然想起来我没去官网预约，我酸了，我就是个柠檬怪。我这种非洲人要想抽一个自己想要的有多难啊！\n",
    "\n",
    "为什么预约的就能白嫖，明明我也很早就关注这个游戏了，只是没有预约的习惯而已。毕竟日服游戏都是事前登录达到一定数量全服发奖。\n",
    "\n",
    "游戏的Live 2D剧情动画有CV配音还挺喜欢的，技能动画也看得出有用心做。\n",
    "\n",
    "不过玩法相比测试服的选牌攻击更加少了一些策略性，但这其实就是个挂机收集养成游戏，想要追求游戏性的就比较不推荐了。''')\n",
    "print(activation_maps)"
   ]
  },
  {
   "cell_type": "code",
   "execution_count": 12,
   "metadata": {
    "ExecuteTime": {
     "end_time": "2018-08-10T06:50:39.960533Z",
     "start_time": "2018-08-10T06:50:39.945042Z"
    }
   },
   "outputs": [
    {
     "data": {
      "text/plain": [
       "['今天朋友晒了封邮件，参与预约的24小时内会收到真爱之契，自选一名角色。',\n",
       " '然后我突然想起来我没去官网预约，我酸了，我就是个柠檬怪。我这种非洲人要想抽一个自己想要的有多难啊！',\n",
       " '为什么预约的就能白嫖，明明我也很早就关注这个游戏了，只是没有预约的习惯而已。毕竟日服游戏都是事前登录达到一定数量全服发奖。',\n",
       " '游戏的Live',\n",
       " '2D剧情动画有CV配音还挺喜欢的，技能动画也看得出有用心做！！！',\n",
       " '不过玩法相比测试服的选牌攻击更加少了一些策略性，但这其实就是个挂机收集养成游戏，想要追求游戏性的就比较不推荐了。。。']"
      ]
     },
     "execution_count": 12,
     "metadata": {},
     "output_type": "execute_result"
    }
   ],
   "source": [
    "'''今天朋友晒了封邮件，参与预约的24小时内会收到真爱之契，自选一名角色。\n",
    "\n",
    "然后我突然想起来我没去官网预约，我酸了，我就是个柠檬怪。我这种非洲人要想抽一个自己想要的有多难啊！\n",
    "\n",
    "为什么预约的就能白嫖，明明我也很早就关注这个游戏了，只是没有预约的习惯而已。毕竟日服游戏都是事前登录达到一定数量全服发奖。\n",
    "\n",
    "游戏的Live 2D剧情动画有CV配音还挺喜欢的，技能动画也看得出有用心做！！！\n",
    "\n",
    "不过玩法相比测试服的选牌攻击更加少了一些策略性，但这其实就是个挂机收集养成游戏，想要追求游戏性的就比较不推荐了。。。'''.split()"
   ]
  }
 ],
 "metadata": {
  "kernelspec": {
   "display_name": "Python 3",
   "language": "python",
   "name": "python3"
  },
  "language_info": {
   "codemirror_mode": {
    "name": "ipython",
    "version": 3
   },
   "file_extension": ".py",
   "mimetype": "text/x-python",
   "name": "python",
   "nbconvert_exporter": "python",
   "pygments_lexer": "ipython3",
   "version": "3.6.2"
  },
  "toc": {
   "nav_menu": {},
   "number_sections": true,
   "sideBar": true,
   "skip_h1_title": false,
   "toc_cell": false,
   "toc_position": {},
   "toc_section_display": "block",
   "toc_window_display": false
  },
  "varInspector": {
   "cols": {
    "lenName": 16,
    "lenType": 16,
    "lenVar": 40
   },
   "kernels_config": {
    "python": {
     "delete_cmd_postfix": "",
     "delete_cmd_prefix": "del ",
     "library": "var_list.py",
     "varRefreshCmd": "print(var_dic_list())"
    },
    "r": {
     "delete_cmd_postfix": ") ",
     "delete_cmd_prefix": "rm(",
     "library": "var_list.r",
     "varRefreshCmd": "cat(var_dic_list()) "
    }
   },
   "types_to_exclude": [
    "module",
    "function",
    "builtin_function_or_method",
    "instance",
    "_Feature"
   ],
   "window_display": true
  }
 },
 "nbformat": 4,
 "nbformat_minor": 2
}
